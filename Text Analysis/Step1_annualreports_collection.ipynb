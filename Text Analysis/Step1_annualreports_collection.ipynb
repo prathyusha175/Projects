{
 "cells": [
  {
   "cell_type": "code",
   "execution_count": 2,
   "id": "b0433028",
   "metadata": {
    "scrolled": true
   },
   "outputs": [
    {
     "name": "stdout",
     "output_type": "stream",
     "text": [
      "c:\\Users\\prathyusha\\anaconda3\\python.exe\n"
     ]
    }
   ],
   "source": [
    "import sys\n",
    "print(sys.executable)"
   ]
  },
  {
   "cell_type": "code",
   "execution_count": 35,
   "id": "d0114643",
   "metadata": {},
   "outputs": [],
   "source": [
    "import os\n",
    "import requests\n",
    "from bs4 import BeautifulSoup\n",
    "from urllib.parse import urljoin"
   ]
  },
  {
   "cell_type": "code",
   "execution_count": 94,
   "id": "5daa5b58",
   "metadata": {},
   "outputs": [],
   "source": [
    "url = \"https://www.annualreports.com/Company/charles-schwab-corp\""
   ]
  },
  {
   "cell_type": "code",
   "execution_count": 95,
   "id": "ebe07603",
   "metadata": {},
   "outputs": [],
   "source": [
    "output_folder_path = r\"C:\\Users\\prath\\Documents\\Annual Reports\\SCHWAB (CHARLES) CORP\""
   ]
  },
  {
   "cell_type": "code",
   "execution_count": 96,
   "id": "7740f82e",
   "metadata": {},
   "outputs": [],
   "source": [
    "response = requests.get(url)\n",
    "soup = BeautifulSoup(response.content, \"html.parser\")"
   ]
  },
  {
   "cell_type": "code",
   "execution_count": 97,
   "id": "23ee86fb",
   "metadata": {},
   "outputs": [],
   "source": [
    "links = soup.find_all(\"a\")"
   ]
  },
  {
   "cell_type": "code",
   "execution_count": 98,
   "id": "6a7b50f7",
   "metadata": {},
   "outputs": [
    {
     "data": {
      "text/plain": [
       "[<a href=\"/\"><img alt=\"AnnualReports.com\" src=\"/img/ar/logo.webp\"/></a>,\n",
       " <a href=\"javascript:;\">BROWSE BY</a>,\n",
       " <a href=\"/Browse/Exchange\">Exchanges</a>,\n",
       " <a href=\"/Browse/Industry\">Industry</a>,\n",
       " <a href=\"/Search\">Other Filters</a>,\n",
       " <a href=\"javascript:;\">BROWSE BY</a>,\n",
       " <a href=\"/Browse/Exchange\">Exchanges</a>,\n",
       " <a href=\"/Browse/Industry\">Industry</a>,\n",
       " <a href=\"/Search\">Other Filters</a>,\n",
       " <a href=\"/Cart\"><img alt=\"\" src=\"/img/ar/cart.webp\"/></a>,\n",
       " <a href=\"/Companies?exch=1\">More</a>,\n",
       " <a href=\"/Companies?ind=61\">More</a>,\n",
       " <a href=\"/Companies?sect=4\">More</a>,\n",
       " <a href=\"https://www.aboutschwab.com\" onclick=\"$.get('/CompanyClick/w/4356');\" target=\"_blank\">Visit website</a>,\n",
       " <a href=\"https://www.facebook.com/CharlesSchwab\" title=\"Visit Charles Schwab Corp. on Facebook\"><img alt=\"Facebook Icon\" src=\"/img/social/38px/Facebook_38px.webp\"/></a>,\n",
       " <a href=\"https://www.youtube.com/user/CharlesSchwab\" title=\"Visit Charles Schwab Corp. on Youtube\"><img alt=\"Youtube Icon\" src=\"/img/social/38px/YouTube_38px.webp\"/></a>,\n",
       " <a href=\"https://www.linkedin.com/company/charles-schwab/\" title=\"Visit Charles Schwab Corp. on LinkedIn\"><img alt=\"LinkedIn Icon\" src=\"/img/social/38px/LinkedIn_38px.webp\"/></a>,\n",
       " <a href=\"https://twitter.com/charlesschwab\" title=\"Visit Charles Schwab Corp. on Twitter\"><img alt=\"Twitter Icon\" src=\"/img/social/38px/Twitter_38px.webp\"/></a>,\n",
       " <a class=\"btn_form_10k\" href=\"/Click/13418\" onclick=\"window.open('/Click/13418', '_blank'); open_rating(13418, 'Charles Schwab Corp. 2022 Annual Report - (PDF)'); return false;\" target=\"_blank\"><span>View PDF</span></a>,\n",
       " <a class=\"btn_form_10k\" href=\"/Click/10902\" onclick=\"window.open('/Click/10902', '_blank'); open_rating(10902, 'Charles Schwab Corp. 2022 Form 10K - (HTML)'); return false;\" target=\"_blank\"><span>View Form 10K</span> <span class=\"report-type-label\">(HTML)</span></a>,\n",
       " <a class=\"btn_request_info\" href=\"\" onclick=\"$(this).remove().promise().done(function(){$('#modal_notifyme').css('display', 'block');}); return false;\">Request Information</a>,\n",
       " <a href=\"https://www.responsibilityreports.com/Company/charles-schwab-corp\" style=\"color:white\">This company has a ESG Report available to view on our partner site, ResponsibilityReports.com</a>,\n",
       " <a href=\"https://www.responsibilityreports.com/Company/charles-schwab-corp\" title=\"View the latest Charles Schwab Corp. sustainability report\"><img alt=\"\" src=\"/img/ar/sustainability_report_go_icon.webp\"/></a>,\n",
       " <a href=\"/HostedData/AnnualReportArchive/c/NYSE_SCHW_2021.pdf\" target=\"_blank\" title=\"View 2021 Annual Report (PDF)\">View Annual Report</a>,\n",
       " <a download=\"\" href=\"/HostedData/AnnualReportArchive/c/NYSE_SCHW_2021.pdf\">Download</a>,\n",
       " <a href=\"/HostedData/AnnualReportArchive/c/NYSE_SCHW_2020.pdf\" target=\"_blank\" title=\"View 2020 Annual Report (PDF)\">View Annual Report</a>,\n",
       " <a download=\"\" href=\"/HostedData/AnnualReportArchive/c/NYSE_SCHW_2020.pdf\">Download</a>,\n",
       " <a href=\"/HostedData/AnnualReportArchive/c/NYSE_SCHW_2019.pdf\" target=\"_blank\" title=\"View 2019 Annual Report (PDF)\">View Annual Report</a>,\n",
       " <a download=\"\" href=\"/HostedData/AnnualReportArchive/c/NYSE_SCHW_2019.pdf\">Download</a>,\n",
       " <a href=\"/HostedData/AnnualReportArchive/c/NYSE_SCHW_2018.pdf\" target=\"_blank\" title=\"View 2018 Annual Report (PDF)\">View Annual Report</a>,\n",
       " <a download=\"\" href=\"/HostedData/AnnualReportArchive/c/NYSE_SCHW_2018.pdf\">Download</a>,\n",
       " <a href=\"/HostedData/AnnualReportArchive/c/NASDAQ_SCHW_2017.pdf\" target=\"_blank\" title=\"View 2017 Annual Report (PDF)\">View Annual Report</a>,\n",
       " <a download=\"\" href=\"/HostedData/AnnualReportArchive/c/NASDAQ_SCHW_2017.pdf\">Download</a>,\n",
       " <a href=\"/HostedData/AnnualReportArchive/c/NASDAQ_SCHW_2016.pdf\" target=\"_blank\" title=\"View 2016 Annual Report (PDF)\">View Annual Report</a>,\n",
       " <a download=\"\" href=\"/HostedData/AnnualReportArchive/c/NASDAQ_SCHW_2016.pdf\">Download</a>,\n",
       " <a href=\"/HostedData/AnnualReportArchive/c/NASDAQ_SCHW_2015.pdf\" target=\"_blank\" title=\"View 2015 Annual Report (PDF)\">View Annual Report</a>,\n",
       " <a download=\"\" href=\"/HostedData/AnnualReportArchive/c/NASDAQ_SCHW_2015.pdf\">Download</a>,\n",
       " <a href=\"/HostedData/AnnualReportArchive/c/NASDAQ_SCHW_2014.pdf\" target=\"_blank\" title=\"View 2014 Annual Report (PDF)\">View Annual Report</a>,\n",
       " <a download=\"\" href=\"/HostedData/AnnualReportArchive/c/NASDAQ_SCHW_2014.pdf\">Download</a>,\n",
       " <a href=\"/HostedData/AnnualReportArchive/c/NASDAQ_SCHW_2013.pdf\" target=\"_blank\" title=\"View 2013 Annual Report (PDF)\">View Annual Report</a>,\n",
       " <a download=\"\" href=\"/HostedData/AnnualReportArchive/c/NASDAQ_SCHW_2013.pdf\">Download</a>,\n",
       " <a href=\"/HostedData/AnnualReportArchive/c/NASDAQ_SCHW_2012.pdf\" target=\"_blank\" title=\"View 2012 Annual Report (PDF)\">View Annual Report</a>,\n",
       " <a download=\"\" href=\"/HostedData/AnnualReportArchive/c/NASDAQ_SCHW_2012.pdf\">Download</a>,\n",
       " <a href=\"/HostedData/AnnualReportArchive/c/NASDAQ_SCHW_2011.pdf\" target=\"_blank\" title=\"View 2011 Annual Report (PDF)\">View Annual Report</a>,\n",
       " <a download=\"\" href=\"/HostedData/AnnualReportArchive/c/NASDAQ_SCHW_2011.pdf\">Download</a>,\n",
       " <a href=\"/HostedData/AnnualReportArchive/c/NASDAQ_SCHW_2010.pdf\" target=\"_blank\" title=\"View 2010 Annual Report (PDF)\">View Annual Report</a>,\n",
       " <a download=\"\" href=\"/HostedData/AnnualReportArchive/c/NASDAQ_SCHW_2010.pdf\">Download</a>,\n",
       " <a href=\"/HostedData/AnnualReportArchive/c/NASDAQ_SCHW_2009.pdf\" target=\"_blank\" title=\"View 2009 Annual Report (PDF)\">View Annual Report</a>,\n",
       " <a download=\"\" href=\"/HostedData/AnnualReportArchive/c/NASDAQ_SCHW_2009.pdf\">Download</a>,\n",
       " <a href=\"/HostedData/AnnualReportArchive/c/NASDAQ_SCHW_2008.pdf\" target=\"_blank\" title=\"View 2008 Annual Report (PDF)\">View Annual Report</a>,\n",
       " <a download=\"\" href=\"/HostedData/AnnualReportArchive/c/NASDAQ_SCHW_2008.pdf\">Download</a>,\n",
       " <a href=\"http://www.aboutschwab.com/investor/AR2007/index.html\" target=\"_blank\" title=\"View 2007 Annual Report (HTML)\">View Annual Report</a>,\n",
       " <a onclick=\"$(this).parent().hide().promise().done(function(){$('li.last_shown').removeClass('last_shown');$('.extra_archive').css('display','flex').removeClass('extra_archive');});\">Show 12 older reports</a>,\n",
       " <a href=\"\" onclick=\"close_rating(); return false;\" title=\"Close\">x</a>,\n",
       " <a></a>,\n",
       " <a href=\"/\">AnnualReports.com</a>,\n",
       " <a href=\"/\">Home</a>,\n",
       " <a href=\"/About\">About</a>,\n",
       " <a href=\"/Contact\">Contact</a>,\n",
       " <a href=\"/FAQ\">FAQs</a>,\n",
       " <a href=\"/Disclaimer\">Legal</a>,\n",
       " <a href=\"https://www.irsolutions.com\">Visit IR Solutions</a>,\n",
       " <a href=\"/AddCompany\">Add My Company</a>]"
      ]
     },
     "execution_count": 98,
     "metadata": {},
     "output_type": "execute_result"
    }
   ],
   "source": [
    "links"
   ]
  },
  {
   "cell_type": "code",
   "execution_count": 99,
   "id": "e1542ac9",
   "metadata": {},
   "outputs": [
    {
     "name": "stdout",
     "output_type": "stream",
     "text": [
      "Downloaded: NYSE_SCHW_2021.pdf\n",
      "Downloaded: NYSE_SCHW_2020.pdf\n",
      "Downloaded: NYSE_SCHW_2019.pdf\n",
      "Downloaded: NYSE_SCHW_2018.pdf\n",
      "Downloaded: NASDAQ_SCHW_2017.pdf\n",
      "Downloaded: NASDAQ_SCHW_2016.pdf\n",
      "Downloaded: NASDAQ_SCHW_2015.pdf\n",
      "Downloaded: NASDAQ_SCHW_2014.pdf\n",
      "Downloaded: NASDAQ_SCHW_2013.pdf\n",
      "Downloaded: NASDAQ_SCHW_2012.pdf\n",
      "Downloaded: NASDAQ_SCHW_2011.pdf\n",
      "Downloaded: NASDAQ_SCHW_2010.pdf\n",
      "Downloaded: NASDAQ_SCHW_2009.pdf\n",
      "Downloaded: NASDAQ_SCHW_2008.pdf\n",
      "Downloaded: index.html.pdf\n",
      "Downloaded: .pdf\n"
     ]
    }
   ],
   "source": [
    "for link in links:\n",
    "    href = link.get(\"href\")\n",
    "    if href and \"annual\" in link.text.lower() and \"report\" in link.text.lower():#the code is looking for all files that have annual and report in the title \n",
    "        # Build the absolute URL\n",
    "        absolute_url = urljoin(url, href)\n",
    "\n",
    "        # Send a GET request to the download URL\n",
    "        response = requests.get(absolute_url)\n",
    "\n",
    "        # Obtain the file name from the URL\n",
    "        file_name = os.path.basename(href)\n",
    "\n",
    "        # Check if the file extension is already \".pdf\" and append if not\n",
    "        if not file_name.lower().endswith(\".pdf\"):\n",
    "            file_name += \".pdf\"\n",
    "\n",
    "        # Save the file to the output folder\n",
    "        file_path = os.path.join(output_folder_path, file_name)\n",
    "        with open(file_path, \"wb\") as file:\n",
    "            file.write(response.content)\n",
    "\n",
    "        print(f\"Downloaded: {file_name}\")"
   ]
  },
  {
   "cell_type": "code",
   "execution_count": 100,
   "id": "62f67289",
   "metadata": {},
   "outputs": [
    {
     "name": "stdout",
     "output_type": "stream",
     "text": [
      "Renamed: NASDAQ_SCHW_2008.pdf to 2008 SCHWAB (CHARLES) CORP.pdf\n",
      "Renamed: NASDAQ_SCHW_2009.pdf to 2009 SCHWAB (CHARLES) CORP.pdf\n",
      "Renamed: NASDAQ_SCHW_2010.pdf to 2010 SCHWAB (CHARLES) CORP.pdf\n",
      "Renamed: NASDAQ_SCHW_2011.pdf to 2011 SCHWAB (CHARLES) CORP.pdf\n",
      "Renamed: NASDAQ_SCHW_2012.pdf to 2012 SCHWAB (CHARLES) CORP.pdf\n",
      "Renamed: NASDAQ_SCHW_2013.pdf to 2013 SCHWAB (CHARLES) CORP.pdf\n",
      "Renamed: NASDAQ_SCHW_2014.pdf to 2014 SCHWAB (CHARLES) CORP.pdf\n",
      "Renamed: NASDAQ_SCHW_2015.pdf to 2015 SCHWAB (CHARLES) CORP.pdf\n",
      "Renamed: NASDAQ_SCHW_2016.pdf to 2016 SCHWAB (CHARLES) CORP.pdf\n",
      "Renamed: NASDAQ_SCHW_2017.pdf to 2017 SCHWAB (CHARLES) CORP.pdf\n",
      "Renamed: NYSE_SCHW_2018.pdf to 2018 SCHWAB (CHARLES) CORP.pdf\n",
      "Renamed: NYSE_SCHW_2019.pdf to 2019 SCHWAB (CHARLES) CORP.pdf\n",
      "Renamed: NYSE_SCHW_2020.pdf to 2020 SCHWAB (CHARLES) CORP.pdf\n",
      "Renamed: NYSE_SCHW_2021.pdf to 2021 SCHWAB (CHARLES) CORP.pdf\n"
     ]
    }
   ],
   "source": [
    "import os\n",
    "import re\n",
    "\n",
    "# Set the directory path where the PDF files are located\n",
    "directory = r\"C:\\Users\\prath\\Documents\\Annual Reports\\SCHWAB (CHARLES) CORP\"\n",
    "#this will be updated to the directory you saved the files in and you need to update the company name\n",
    "\n",
    "# Iterate over the files in the directory\n",
    "for filename in os.listdir(directory):\n",
    "    file_path = os.path.join(directory, filename)\n",
    "    if os.path.isfile(file_path) and filename.lower().endswith(\".pdf\"):\n",
    "        # Extract the year from the file name using regular expressions\n",
    "        match = re.search(r\"\\d{4}\", filename)\n",
    "        if match:\n",
    "            year = match.group()\n",
    "            \n",
    "            # Construct the new file name\n",
    "            new_filename = f\"{year} SCHWAB (CHARLES) CORP.pdf\"#the company name will need to be updated for the company you are working with. Note that the {year} inputs the annual report's year before the company's name \n",
    "            \n",
    "            # Rename the file\n",
    "            new_file_path = os.path.join(directory, new_filename)\n",
    "            os.rename(file_path, new_file_path)\n",
    "            \n",
    "            print(f\"Renamed: {filename} to {new_filename}\")\n",
    "\n",
    "\n"
   ]
  }
 ],
 "metadata": {
  "kernelspec": {
   "display_name": "Python 3 (ipykernel)",
   "language": "python",
   "name": "python3"
  },
  "language_info": {
   "codemirror_mode": {
    "name": "ipython",
    "version": 3
   },
   "file_extension": ".py",
   "mimetype": "text/x-python",
   "name": "python",
   "nbconvert_exporter": "python",
   "pygments_lexer": "ipython3",
   "version": "3.9.12"
  }
 },
 "nbformat": 4,
 "nbformat_minor": 5
}
