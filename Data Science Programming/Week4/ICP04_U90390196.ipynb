{
  "cells": [
    {
      "cell_type": "code",
      "execution_count": 9,
      "metadata": {
        "id": "m-x8T-VaGCi9"
      },
      "outputs": [],
      "source": [
        "import pandas as pd\n",
        "from sklearn.svm import SVC\n",
        "from sklearn.tree import DecisionTreeClassifier \n",
        "from matplotlib import pyplot as plt\n",
        "import numpy as np\n",
        "from sklearn.metrics import confusion_matrix\n",
        "from sklearn.model_selection import GridSearchCV, RandomizedSearchCV\n",
        "\n",
        "\n",
        "np.random.seed(1)"
      ]
    },
    {
      "cell_type": "code",
      "execution_count": 10,
      "metadata": {
        "id": "bDQHhSyVGCi-"
      },
      "outputs": [],
      "source": [
        "X_train = pd.read_csv('./airbnb_train_X_price_gte_150.csv') \n",
        "y_train = pd.read_csv('./airbnb_train_y_price_gte_150.csv') \n",
        "X_test = pd.read_csv('./airbnb_test_X_price_gte_150.csv') \n",
        "y_test = pd.read_csv('./airbnb_test_y_price_gte_150.csv') "
      ]
    },
    {
      "cell_type": "code",
      "execution_count": 11,
      "metadata": {
        "id": "gG4-K7vnGCi-"
      },
      "outputs": [],
      "source": [
        "performance = pd.DataFrame({\"model\": [], \"Accuracy\": [], \"Precision\": [], \"Recall\": [], \"F1\": []})"
      ]
    },
    {
      "cell_type": "code",
      "execution_count": 12,
      "metadata": {
        "id": "mcYix3eEGCi-"
      },
      "outputs": [],
      "source": [
        "svm_poly_model = SVC(kernel=\"poly\", degree=3, coef0=1, C=1,probability=True)\n",
        "_ = svm_poly_model.fit(X_train, np.ravel(y_train))\n",
        "model_preds = svm_poly_model.predict(X_test)\n",
        "c_matrix = confusion_matrix(y_test, model_preds)\n",
        "TP = c_matrix[1][1]\n",
        "TN = c_matrix[0][0]\n",
        "FP = c_matrix[0][1]\n",
        "FN = c_matrix[1][0]\n",
        "performance = pd.concat([performance, pd.DataFrame({'model':\"poly svm\", \n",
        "                                                    'Accuracy': [(TP+TN)/(TP+TN+FP+FN)], \n",
        "                                                    'Precision': [TP/(TP+FP)], \n",
        "                                                    'Recall': [TP/(TP+FN)], \n",
        "                                                    'F1': [2*TP/(2*TP+FP+FN)]\n",
        "                                                     }, index=[0])])"
      ]
    },
    {
      "cell_type": "code",
      "execution_count": 14,
      "metadata": {
        "colab": {
          "base_uri": "https://localhost:8080/"
        },
        "id": "L9RjwNE9GCi_",
        "outputId": "d2e86df2-2997-49d4-b850-e08cf017b0a7"
      },
      "outputs": [
        {
          "name": "stdout",
          "output_type": "stream",
          "text": [
            "Fitting 5 folds for each of 500 candidates, totalling 2500 fits\n",
            "The best precision score is 0.8557704836066309\n",
            "... with parameters: {'min_samples_split': 43, 'min_samples_leaf': 16, 'min_impurity_decrease': 0.0031, 'max_leaf_nodes': 74, 'max_depth': 31, 'criterion': 'entropy'}\n"
          ]
        }
      ],
      "source": [
        "score_measure = \"precision\"\n",
        "kfolds = 5\n",
        "\n",
        "param_grid = {\n",
        "    'min_samples_split': np.arange(1,200),  \n",
        "    'min_samples_leaf': np.arange(1,200),\n",
        "    'min_impurity_decrease': np.arange(0.0001, 0.01, 0.0005),\n",
        "    'max_leaf_nodes': np.arange(5, 200), \n",
        "    'max_depth': np.arange(1,50), \n",
        "    'criterion': ['entropy', 'gini'],\n",
        "}\n",
        "\n",
        "dtree = DecisionTreeClassifier()\n",
        "rand_search = RandomizedSearchCV(estimator = dtree, param_distributions=param_grid, cv=kfolds, n_iter=500,\n",
        "                           scoring=score_measure, verbose=1, n_jobs=-1,  # n_jobs=-1 will utilize all available CPUs \n",
        "                           return_train_score=True)\n",
        "\n",
        "_ = rand_search.fit(X_train, y_train)\n",
        "\n",
        "print(f\"The best {score_measure} score is {rand_search.best_score_}\")\n",
        "print(f\"... with parameters: {rand_search.best_params_}\")\n",
        "\n",
        "bestRecallTree = rand_search.best_estimator_\n",
        "import warnings\n",
        "warnings.filterwarnings(\"ignore\")"
      ]
    },
    {
      "cell_type": "code",
      "execution_count": 15,
      "metadata": {
        "id": "JNKDPuIvGCi_"
      },
      "outputs": [],
      "source": [
        "c_matrix = confusion_matrix(y_test, rand_search.predict(X_test))\n",
        "TP = c_matrix[1][1]\n",
        "TN = c_matrix[0][0]\n",
        "FP = c_matrix[0][1]\n",
        "FN = c_matrix[1][0]\n",
        "performance = pd.concat([performance, pd.DataFrame({'model':\"Decision Tree Random Search\", \n",
        "                                                    'Accuracy': [(TP+TN)/(TP+TN+FP+FN)], \n",
        "                                                    'Precision': [TP/(TP+FP)], \n",
        "                                                    'Recall': [TP/(TP+FN)], \n",
        "                                                    'F1': [2*TP/(2*TP+FP+FN)]\n",
        "                                                     }, index=[0])])"
      ]
    },
    {
      "cell_type": "code",
      "execution_count": 16,
      "metadata": {
        "colab": {
          "base_uri": "https://localhost:8080/"
        },
        "id": "nIa5IISCGCjA",
        "outputId": "fcc74aab-8ab0-4445-e191-c19be494097d"
      },
      "outputs": [
        {
          "name": "stdout",
          "output_type": "stream",
          "text": [
            "Fitting 5 folds for each of 9072 candidates, totalling 45360 fits\n",
            "The best precision score is 0.8470330066484271\n",
            "... with parameters: {'criterion': 'entropy', 'max_depth': 15, 'max_leaf_nodes': 162, 'min_impurity_decrease': 0.0048, 'min_samples_leaf': 10, 'min_samples_split': 30}\n"
          ]
        }
      ],
      "source": [
        "score_measure = \"precision\"\n",
        "kfolds = 5\n",
        "\n",
        "param_grid = {\n",
        "    'min_samples_split': np.arange(30,36),  \n",
        "    'min_samples_leaf': np.arange(6,12),\n",
        "    'min_impurity_decrease': np.arange(0.0048, 0.0054, 0.0001),\n",
        "    'max_leaf_nodes': np.arange(162,168), \n",
        "    'max_depth': np.arange(15,21), \n",
        "    'criterion': ['entropy'],\n",
        "}\n",
        "\n",
        "dtree = DecisionTreeClassifier()\n",
        "grid_search = GridSearchCV(estimator = dtree, param_grid=param_grid, cv=kfolds, \n",
        "                           scoring=score_measure, verbose=1, n_jobs=-1,  # n_jobs=-1 will utilize all available CPUs \n",
        "                           return_train_score=True)\n",
        "\n",
        "_ = grid_search.fit(X_train, y_train)\n",
        "\n",
        "print(f\"The best {score_measure} score is {grid_search.best_score_}\")\n",
        "print(f\"... with parameters: {grid_search.best_params_}\")\n",
        "\n",
        "bestRecallTree = grid_search.best_estimator_"
      ]
    },
    {
      "cell_type": "code",
      "execution_count": 17,
      "metadata": {
        "id": "jR6sLTmpGCjA"
      },
      "outputs": [],
      "source": [
        "c_matrix = confusion_matrix(y_test, grid_search.predict(X_test))\n",
        "TP = c_matrix[1][1]\n",
        "TN = c_matrix[0][0]\n",
        "FP = c_matrix[0][1]\n",
        "FN = c_matrix[1][0]\n",
        "performance = pd.concat([performance, pd.DataFrame({'model':\"Decision Tree Grid Search\", \n",
        "                                                    'Accuracy': [(TP+TN)/(TP+TN+FP+FN)], \n",
        "                                                    'Precision': [TP/(TP+FP)], \n",
        "                                                    'Recall': [TP/(TP+FN)], \n",
        "                                                    'F1': [2*TP/(2*TP+FP+FN)]\n",
        "                                                     }, index=[0])])"
      ]
    },
    {
      "cell_type": "code",
      "execution_count": 18,
      "metadata": {
        "colab": {
          "base_uri": "https://localhost:8080/",
          "height": 143
        },
        "id": "BNMDE7UUGCjA",
        "outputId": "a9e14326-6177-4dd9-f11f-ffbbe1ddc24e"
      },
      "outputs": [
        {
          "data": {
            "text/html": [
              "\n",
              "  <div id=\"df-0373df27-9218-497a-857a-4d87cefefd5c\">\n",
              "    <div class=\"colab-df-container\">\n",
              "      <div>\n",
              "<style scoped>\n",
              "    .dataframe tbody tr th:only-of-type {\n",
              "        vertical-align: middle;\n",
              "    }\n",
              "\n",
              "    .dataframe tbody tr th {\n",
              "        vertical-align: top;\n",
              "    }\n",
              "\n",
              "    .dataframe thead th {\n",
              "        text-align: right;\n",
              "    }\n",
              "</style>\n",
              "<table border=\"1\" class=\"dataframe\">\n",
              "  <thead>\n",
              "    <tr style=\"text-align: right;\">\n",
              "      <th></th>\n",
              "      <th>model</th>\n",
              "      <th>Accuracy</th>\n",
              "      <th>Precision</th>\n",
              "      <th>Recall</th>\n",
              "      <th>F1</th>\n",
              "    </tr>\n",
              "  </thead>\n",
              "  <tbody>\n",
              "    <tr>\n",
              "      <th>0</th>\n",
              "      <td>poly svm</td>\n",
              "      <td>0.863168</td>\n",
              "      <td>0.846847</td>\n",
              "      <td>0.885122</td>\n",
              "      <td>0.865562</td>\n",
              "    </tr>\n",
              "    <tr>\n",
              "      <th>0</th>\n",
              "      <td>Decision Tree Random Search</td>\n",
              "      <td>0.849110</td>\n",
              "      <td>0.853053</td>\n",
              "      <td>0.841808</td>\n",
              "      <td>0.847393</td>\n",
              "    </tr>\n",
              "    <tr>\n",
              "      <th>0</th>\n",
              "      <td>Decision Tree Grid Search</td>\n",
              "      <td>0.846298</td>\n",
              "      <td>0.837937</td>\n",
              "      <td>0.856874</td>\n",
              "      <td>0.847300</td>\n",
              "    </tr>\n",
              "  </tbody>\n",
              "</table>\n",
              "</div>\n",
              "      <button class=\"colab-df-convert\" onclick=\"convertToInteractive('df-0373df27-9218-497a-857a-4d87cefefd5c')\"\n",
              "              title=\"Convert this dataframe to an interactive table.\"\n",
              "              style=\"display:none;\">\n",
              "        \n",
              "  <svg xmlns=\"http://www.w3.org/2000/svg\" height=\"24px\"viewBox=\"0 0 24 24\"\n",
              "       width=\"24px\">\n",
              "    <path d=\"M0 0h24v24H0V0z\" fill=\"none\"/>\n",
              "    <path d=\"M18.56 5.44l.94 2.06.94-2.06 2.06-.94-2.06-.94-.94-2.06-.94 2.06-2.06.94zm-11 1L8.5 8.5l.94-2.06 2.06-.94-2.06-.94L8.5 2.5l-.94 2.06-2.06.94zm10 10l.94 2.06.94-2.06 2.06-.94-2.06-.94-.94-2.06-.94 2.06-2.06.94z\"/><path d=\"M17.41 7.96l-1.37-1.37c-.4-.4-.92-.59-1.43-.59-.52 0-1.04.2-1.43.59L10.3 9.45l-7.72 7.72c-.78.78-.78 2.05 0 2.83L4 21.41c.39.39.9.59 1.41.59.51 0 1.02-.2 1.41-.59l7.78-7.78 2.81-2.81c.8-.78.8-2.07 0-2.86zM5.41 20L4 18.59l7.72-7.72 1.47 1.35L5.41 20z\"/>\n",
              "  </svg>\n",
              "      </button>\n",
              "      \n",
              "  <style>\n",
              "    .colab-df-container {\n",
              "      display:flex;\n",
              "      flex-wrap:wrap;\n",
              "      gap: 12px;\n",
              "    }\n",
              "\n",
              "    .colab-df-convert {\n",
              "      background-color: #E8F0FE;\n",
              "      border: none;\n",
              "      border-radius: 50%;\n",
              "      cursor: pointer;\n",
              "      display: none;\n",
              "      fill: #1967D2;\n",
              "      height: 32px;\n",
              "      padding: 0 0 0 0;\n",
              "      width: 32px;\n",
              "    }\n",
              "\n",
              "    .colab-df-convert:hover {\n",
              "      background-color: #E2EBFA;\n",
              "      box-shadow: 0px 1px 2px rgba(60, 64, 67, 0.3), 0px 1px 3px 1px rgba(60, 64, 67, 0.15);\n",
              "      fill: #174EA6;\n",
              "    }\n",
              "\n",
              "    [theme=dark] .colab-df-convert {\n",
              "      background-color: #3B4455;\n",
              "      fill: #D2E3FC;\n",
              "    }\n",
              "\n",
              "    [theme=dark] .colab-df-convert:hover {\n",
              "      background-color: #434B5C;\n",
              "      box-shadow: 0px 1px 3px 1px rgba(0, 0, 0, 0.15);\n",
              "      filter: drop-shadow(0px 1px 2px rgba(0, 0, 0, 0.3));\n",
              "      fill: #FFFFFF;\n",
              "    }\n",
              "  </style>\n",
              "\n",
              "      <script>\n",
              "        const buttonEl =\n",
              "          document.querySelector('#df-0373df27-9218-497a-857a-4d87cefefd5c button.colab-df-convert');\n",
              "        buttonEl.style.display =\n",
              "          google.colab.kernel.accessAllowed ? 'block' : 'none';\n",
              "\n",
              "        async function convertToInteractive(key) {\n",
              "          const element = document.querySelector('#df-0373df27-9218-497a-857a-4d87cefefd5c');\n",
              "          const dataTable =\n",
              "            await google.colab.kernel.invokeFunction('convertToInteractive',\n",
              "                                                     [key], {});\n",
              "          if (!dataTable) return;\n",
              "\n",
              "          const docLinkHtml = 'Like what you see? Visit the ' +\n",
              "            '<a target=\"_blank\" href=https://colab.research.google.com/notebooks/data_table.ipynb>data table notebook</a>'\n",
              "            + ' to learn more about interactive tables.';\n",
              "          element.innerHTML = '';\n",
              "          dataTable['output_type'] = 'display_data';\n",
              "          await google.colab.output.renderOutput(dataTable, element);\n",
              "          const docLink = document.createElement('div');\n",
              "          docLink.innerHTML = docLinkHtml;\n",
              "          element.appendChild(docLink);\n",
              "        }\n",
              "      </script>\n",
              "    </div>\n",
              "  </div>\n",
              "  "
            ],
            "text/plain": [
              "                         model  Accuracy  Precision    Recall        F1\n",
              "0                     poly svm  0.863168   0.846847  0.885122  0.865562\n",
              "0  Decision Tree Random Search  0.849110   0.853053  0.841808  0.847393\n",
              "0    Decision Tree Grid Search  0.846298   0.837937  0.856874  0.847300"
            ]
          },
          "execution_count": 18,
          "metadata": {},
          "output_type": "execute_result"
        }
      ],
      "source": [
        "performance"
      ]
    },
    {
      "cell_type": "code",
      "execution_count": null,
      "metadata": {
        "id": "02vnNnUKGCjA"
      },
      "outputs": [],
      "source": [
        "As per the results, poly svm fits the data better than the other two models. \n",
        "In the decision trees, Random search performed better than Grid search. \n",
        "Basically these search techniques are performed for parameter optimization. \n",
        "So in this case, where precision is considered as score_measure,Random search has the higher precision.\n",
        "That means Random search found the best configuration of parameters.\n",
        "We have 86.3% accuray for poly svm which is the highest out of all.\n",
        "So it can be concluded that poly svm is the best model on data."
      ]
    }
  ],
  "metadata": {
    "colab": {
      "provenance": []
    },
    "kernelspec": {
      "display_name": "Python 3 (ipykernel)",
      "language": "python",
      "name": "python3"
    },
    "language_info": {
      "codemirror_mode": {
        "name": "ipython",
        "version": 3
      },
      "file_extension": ".py",
      "mimetype": "text/x-python",
      "name": "python",
      "nbconvert_exporter": "python",
      "pygments_lexer": "ipython3",
      "version": "3.9.12"
    }
  },
  "nbformat": 4,
  "nbformat_minor": 0
}
