{
  "cells": [
    {
      "cell_type": "markdown",
      "metadata": {
        "id": "LxGJbLsUhuc8"
      },
      "source": [
        "# Week05 -\n",
        "\n",
        "In this week we look at using ensembles of models to improve the performance of our models. We will look at the following:\n",
        "\n",
        "* RandomForest\n",
        "* AdaBoost\n",
        "* Gradiant Boosting\n",
        "* XG Boosting\n"
      ]
    },
    {
      "cell_type": "markdown",
      "metadata": {
        "id": "-tuXRZKEYrDa"
      },
      "source": [
        "## Introduction and Overview\n"
      ]
    },
    {
      "cell_type": "markdown",
      "metadata": {
        "id": "q08EVUytY3eh"
      },
      "source": [
        "In this notebook, we will reuse the Universal Bank dataset.\n",
        "\n",
        "This time, we are developing a model to predict whether a customer will accept a personal loan offer. The dataset contains 5000 observations and 14 variables. The data is available on one of my GitHub repos."
      ]
    },
    {
      "cell_type": "markdown",
      "metadata": {
        "id": "kmYLcm3aY8X5"
      },
      "source": [
        "## Install and import necessary packages"
      ]
    },
    {
      "cell_type": "code",
      "execution_count": null,
      "metadata": {
        "id": "H26XOMdT1uyQ",
        "outputId": "2e432e18-ed42-4ebb-a289-92c08e4a0aba"
      },
      "outputs": [
        {
          "name": "stdout",
          "output_type": "stream",
          "text": [
            "Collecting package metadata (current_repodata.json): ...working... done\n",
            "Solving environment: ...working... done\n",
            "\n",
            "## Package Plan ##\n",
            "\n",
            "  environment location: C:\\Users\\prath\\anaconda3\n",
            "\n",
            "  added / updated specs:\n",
            "    - xgboost\n",
            "\n",
            "\n",
            "The following packages will be downloaded:\n",
            "\n",
            "    package                    |            build\n",
            "    ---------------------------|-----------------\n",
            "    _py-xgboost-mutex-2.0      |            cpu_0          12 KB\n",
            "    conda-23.1.0               |   py39haa95532_0         946 KB\n",
            "    libxgboost-1.7.3           |       hd77b12b_0         1.5 MB\n",
            "    py-xgboost-1.7.3           |   py39haa95532_0         197 KB\n",
            "    ruamel.yaml-0.17.21        |   py39h2bbff1b_0         174 KB\n",
            "    ruamel.yaml.clib-0.2.6     |   py39h2bbff1b_1         101 KB\n",
            "    xgboost-1.7.3              |   py39haa95532_0          12 KB\n",
            "    ------------------------------------------------------------\n",
            "                                           Total:         2.9 MB\n",
            "\n",
            "The following NEW packages will be INSTALLED:\n",
            "\n",
            "  _py-xgboost-mutex  pkgs/main/win-64::_py-xgboost-mutex-2.0-cpu_0\n",
            "  libxgboost         pkgs/main/win-64::libxgboost-1.7.3-hd77b12b_0\n",
            "  py-xgboost         pkgs/main/win-64::py-xgboost-1.7.3-py39haa95532_0\n",
            "  ruamel.yaml        pkgs/main/win-64::ruamel.yaml-0.17.21-py39h2bbff1b_0\n",
            "  ruamel.yaml.clib   pkgs/main/win-64::ruamel.yaml.clib-0.2.6-py39h2bbff1b_1\n",
            "  xgboost            pkgs/main/win-64::xgboost-1.7.3-py39haa95532_0\n",
            "\n",
            "The following packages will be UPDATED:\n",
            "\n",
            "  conda                               4.13.0-py39haa95532_0 --> 23.1.0-py39haa95532_0\n",
            "\n",
            "\n",
            "\n",
            "Downloading and Extracting Packages\n",
            "\n",
            "xgboost-1.7.3        | 12 KB     |            |   0% \n",
            "xgboost-1.7.3        | 12 KB     | ########## | 100% \n",
            "xgboost-1.7.3        | 12 KB     | ########## | 100% \n",
            "\n",
            "py-xgboost-1.7.3     | 197 KB    |            |   0% \n",
            "py-xgboost-1.7.3     | 197 KB    | ########1  |  81% \n",
            "py-xgboost-1.7.3     | 197 KB    | ########## | 100% \n",
            "\n",
            "conda-23.1.0         | 946 KB    |            |   0% \n",
            "conda-23.1.0         | 946 KB    | ####3      |  44% \n",
            "conda-23.1.0         | 946 KB    | ########## | 100% \n",
            "conda-23.1.0         | 946 KB    | ########## | 100% \n",
            "\n",
            "ruamel.yaml.clib-0.2 | 101 KB    |            |   0% \n",
            "ruamel.yaml.clib-0.2 | 101 KB    | ########## | 100% \n",
            "ruamel.yaml.clib-0.2 | 101 KB    | ########## | 100% \n",
            "\n",
            "_py-xgboost-mutex-2. | 12 KB     |            |   0% \n",
            "_py-xgboost-mutex-2. | 12 KB     | ########## | 100% \n",
            "_py-xgboost-mutex-2. | 12 KB     | ########## | 100% \n",
            "\n",
            "libxgboost-1.7.3     | 1.5 MB    |            |   0% \n",
            "libxgboost-1.7.3     | 1.5 MB    | ###3       |  34% \n",
            "libxgboost-1.7.3     | 1.5 MB    | ########## | 100% \n",
            "libxgboost-1.7.3     | 1.5 MB    | ########## | 100% \n",
            "\n",
            "ruamel.yaml-0.17.21  | 174 KB    |            |   0% \n",
            "ruamel.yaml-0.17.21  | 174 KB    | ########## | 100% \n",
            "ruamel.yaml-0.17.21  | 174 KB    | ########## | 100% \n",
            "Preparing transaction: ...working... done\n",
            "Verifying transaction: ...working... done\n",
            "Executing transaction: ...working... done\n"
          ]
        }
      ],
      "source": [
        "# You may need to install xgboost (it's not part of the sklearn package)\n",
        "import sys\n",
        "!conda install --yes --prefix {sys.prefix} xgboost"
      ]
    },
    {
      "cell_type": "code",
      "execution_count": 3,
      "metadata": {
        "id": "8zNdljvIhuc8"
      },
      "outputs": [],
      "source": [
        "# import packages\n",
        "import pandas as pd\n",
        "import numpy as np\n",
        "from sklearn.model_selection import train_test_split\n",
        "from sklearn.tree import DecisionTreeClassifier\n",
        "from sklearn.ensemble import RandomForestClassifier, GradientBoostingClassifier, AdaBoostClassifier\n",
        "from sklearn.metrics import confusion_matrix, accuracy_score, precision_score, recall_score, f1_score\n",
        "from sklearn.model_selection import GridSearchCV, RandomizedSearchCV\n",
        "from xgboost import XGBClassifier\n",
        "\n",
        "np.random.seed(1)"
      ]
    },
    {
      "cell_type": "markdown",
      "metadata": {
        "id": "sGgrXNQPZT3J"
      },
      "source": [
        "## Load data "
      ]
    },
    {
      "cell_type": "code",
      "execution_count": 4,
      "metadata": {
        "id": "q3u5LsGyhudA",
        "colab": {
          "base_uri": "https://localhost:8080/",
          "height": 204
        },
        "outputId": "20b2a9d2-101b-4d20-e1dd-03e48f43e8c2"
      },
      "outputs": [
        {
          "output_type": "execute_result",
          "data": {
            "text/plain": [
              "   ID  Age  Experience  Income  ZIP Code  Family  CCAvg  Education  Mortgage  \\\n",
              "0   1   25           1      49     91107       4    1.6          1         0   \n",
              "1   2   45          19      34     90089       3    1.5          1         0   \n",
              "2   3   39          15      11     94720       1    1.0          1         0   \n",
              "3   4   35           9     100     94112       1    2.7          2         0   \n",
              "4   5   35           8      45     91330       4    1.0          2         0   \n",
              "\n",
              "   Personal Loan  Securities Account  CD Account  Online  CreditCard  \n",
              "0              0                   1           0       0           0  \n",
              "1              0                   1           0       0           0  \n",
              "2              0                   0           0       0           0  \n",
              "3              0                   0           0       0           0  \n",
              "4              0                   0           0       0           1  "
            ],
            "text/html": [
              "\n",
              "  <div id=\"df-1c6b80b9-bfbc-443a-9e45-ac4fc1a20004\">\n",
              "    <div class=\"colab-df-container\">\n",
              "      <div>\n",
              "<style scoped>\n",
              "    .dataframe tbody tr th:only-of-type {\n",
              "        vertical-align: middle;\n",
              "    }\n",
              "\n",
              "    .dataframe tbody tr th {\n",
              "        vertical-align: top;\n",
              "    }\n",
              "\n",
              "    .dataframe thead th {\n",
              "        text-align: right;\n",
              "    }\n",
              "</style>\n",
              "<table border=\"1\" class=\"dataframe\">\n",
              "  <thead>\n",
              "    <tr style=\"text-align: right;\">\n",
              "      <th></th>\n",
              "      <th>ID</th>\n",
              "      <th>Age</th>\n",
              "      <th>Experience</th>\n",
              "      <th>Income</th>\n",
              "      <th>ZIP Code</th>\n",
              "      <th>Family</th>\n",
              "      <th>CCAvg</th>\n",
              "      <th>Education</th>\n",
              "      <th>Mortgage</th>\n",
              "      <th>Personal Loan</th>\n",
              "      <th>Securities Account</th>\n",
              "      <th>CD Account</th>\n",
              "      <th>Online</th>\n",
              "      <th>CreditCard</th>\n",
              "    </tr>\n",
              "  </thead>\n",
              "  <tbody>\n",
              "    <tr>\n",
              "      <th>0</th>\n",
              "      <td>1</td>\n",
              "      <td>25</td>\n",
              "      <td>1</td>\n",
              "      <td>49</td>\n",
              "      <td>91107</td>\n",
              "      <td>4</td>\n",
              "      <td>1.6</td>\n",
              "      <td>1</td>\n",
              "      <td>0</td>\n",
              "      <td>0</td>\n",
              "      <td>1</td>\n",
              "      <td>0</td>\n",
              "      <td>0</td>\n",
              "      <td>0</td>\n",
              "    </tr>\n",
              "    <tr>\n",
              "      <th>1</th>\n",
              "      <td>2</td>\n",
              "      <td>45</td>\n",
              "      <td>19</td>\n",
              "      <td>34</td>\n",
              "      <td>90089</td>\n",
              "      <td>3</td>\n",
              "      <td>1.5</td>\n",
              "      <td>1</td>\n",
              "      <td>0</td>\n",
              "      <td>0</td>\n",
              "      <td>1</td>\n",
              "      <td>0</td>\n",
              "      <td>0</td>\n",
              "      <td>0</td>\n",
              "    </tr>\n",
              "    <tr>\n",
              "      <th>2</th>\n",
              "      <td>3</td>\n",
              "      <td>39</td>\n",
              "      <td>15</td>\n",
              "      <td>11</td>\n",
              "      <td>94720</td>\n",
              "      <td>1</td>\n",
              "      <td>1.0</td>\n",
              "      <td>1</td>\n",
              "      <td>0</td>\n",
              "      <td>0</td>\n",
              "      <td>0</td>\n",
              "      <td>0</td>\n",
              "      <td>0</td>\n",
              "      <td>0</td>\n",
              "    </tr>\n",
              "    <tr>\n",
              "      <th>3</th>\n",
              "      <td>4</td>\n",
              "      <td>35</td>\n",
              "      <td>9</td>\n",
              "      <td>100</td>\n",
              "      <td>94112</td>\n",
              "      <td>1</td>\n",
              "      <td>2.7</td>\n",
              "      <td>2</td>\n",
              "      <td>0</td>\n",
              "      <td>0</td>\n",
              "      <td>0</td>\n",
              "      <td>0</td>\n",
              "      <td>0</td>\n",
              "      <td>0</td>\n",
              "    </tr>\n",
              "    <tr>\n",
              "      <th>4</th>\n",
              "      <td>5</td>\n",
              "      <td>35</td>\n",
              "      <td>8</td>\n",
              "      <td>45</td>\n",
              "      <td>91330</td>\n",
              "      <td>4</td>\n",
              "      <td>1.0</td>\n",
              "      <td>2</td>\n",
              "      <td>0</td>\n",
              "      <td>0</td>\n",
              "      <td>0</td>\n",
              "      <td>0</td>\n",
              "      <td>0</td>\n",
              "      <td>1</td>\n",
              "    </tr>\n",
              "  </tbody>\n",
              "</table>\n",
              "</div>\n",
              "      <button class=\"colab-df-convert\" onclick=\"convertToInteractive('df-1c6b80b9-bfbc-443a-9e45-ac4fc1a20004')\"\n",
              "              title=\"Convert this dataframe to an interactive table.\"\n",
              "              style=\"display:none;\">\n",
              "        \n",
              "  <svg xmlns=\"http://www.w3.org/2000/svg\" height=\"24px\"viewBox=\"0 0 24 24\"\n",
              "       width=\"24px\">\n",
              "    <path d=\"M0 0h24v24H0V0z\" fill=\"none\"/>\n",
              "    <path d=\"M18.56 5.44l.94 2.06.94-2.06 2.06-.94-2.06-.94-.94-2.06-.94 2.06-2.06.94zm-11 1L8.5 8.5l.94-2.06 2.06-.94-2.06-.94L8.5 2.5l-.94 2.06-2.06.94zm10 10l.94 2.06.94-2.06 2.06-.94-2.06-.94-.94-2.06-.94 2.06-2.06.94z\"/><path d=\"M17.41 7.96l-1.37-1.37c-.4-.4-.92-.59-1.43-.59-.52 0-1.04.2-1.43.59L10.3 9.45l-7.72 7.72c-.78.78-.78 2.05 0 2.83L4 21.41c.39.39.9.59 1.41.59.51 0 1.02-.2 1.41-.59l7.78-7.78 2.81-2.81c.8-.78.8-2.07 0-2.86zM5.41 20L4 18.59l7.72-7.72 1.47 1.35L5.41 20z\"/>\n",
              "  </svg>\n",
              "      </button>\n",
              "      \n",
              "  <style>\n",
              "    .colab-df-container {\n",
              "      display:flex;\n",
              "      flex-wrap:wrap;\n",
              "      gap: 12px;\n",
              "    }\n",
              "\n",
              "    .colab-df-convert {\n",
              "      background-color: #E8F0FE;\n",
              "      border: none;\n",
              "      border-radius: 50%;\n",
              "      cursor: pointer;\n",
              "      display: none;\n",
              "      fill: #1967D2;\n",
              "      height: 32px;\n",
              "      padding: 0 0 0 0;\n",
              "      width: 32px;\n",
              "    }\n",
              "\n",
              "    .colab-df-convert:hover {\n",
              "      background-color: #E2EBFA;\n",
              "      box-shadow: 0px 1px 2px rgba(60, 64, 67, 0.3), 0px 1px 3px 1px rgba(60, 64, 67, 0.15);\n",
              "      fill: #174EA6;\n",
              "    }\n",
              "\n",
              "    [theme=dark] .colab-df-convert {\n",
              "      background-color: #3B4455;\n",
              "      fill: #D2E3FC;\n",
              "    }\n",
              "\n",
              "    [theme=dark] .colab-df-convert:hover {\n",
              "      background-color: #434B5C;\n",
              "      box-shadow: 0px 1px 3px 1px rgba(0, 0, 0, 0.15);\n",
              "      filter: drop-shadow(0px 1px 2px rgba(0, 0, 0, 0.3));\n",
              "      fill: #FFFFFF;\n",
              "    }\n",
              "  </style>\n",
              "\n",
              "      <script>\n",
              "        const buttonEl =\n",
              "          document.querySelector('#df-1c6b80b9-bfbc-443a-9e45-ac4fc1a20004 button.colab-df-convert');\n",
              "        buttonEl.style.display =\n",
              "          google.colab.kernel.accessAllowed ? 'block' : 'none';\n",
              "\n",
              "        async function convertToInteractive(key) {\n",
              "          const element = document.querySelector('#df-1c6b80b9-bfbc-443a-9e45-ac4fc1a20004');\n",
              "          const dataTable =\n",
              "            await google.colab.kernel.invokeFunction('convertToInteractive',\n",
              "                                                     [key], {});\n",
              "          if (!dataTable) return;\n",
              "\n",
              "          const docLinkHtml = 'Like what you see? Visit the ' +\n",
              "            '<a target=\"_blank\" href=https://colab.research.google.com/notebooks/data_table.ipynb>data table notebook</a>'\n",
              "            + ' to learn more about interactive tables.';\n",
              "          element.innerHTML = '';\n",
              "          dataTable['output_type'] = 'display_data';\n",
              "          await google.colab.output.renderOutput(dataTable, element);\n",
              "          const docLink = document.createElement('div');\n",
              "          docLink.innerHTML = docLinkHtml;\n",
              "          element.appendChild(docLink);\n",
              "        }\n",
              "      </script>\n",
              "    </div>\n",
              "  </div>\n",
              "  "
            ]
          },
          "metadata": {},
          "execution_count": 4
        }
      ],
      "source": [
        "df = pd.read_csv('https://github.com/timcsmith/MIS536-Public/raw/master/Data/UniversalBank.csv')\n",
        "df.head(5)"
      ]
    },
    {
      "cell_type": "markdown",
      "metadata": {
        "id": "2aOH_GFGZZFx"
      },
      "source": [
        "## Explore the dataset"
      ]
    },
    {
      "cell_type": "code",
      "execution_count": 5,
      "metadata": {
        "colab": {
          "base_uri": "https://localhost:8080/"
        },
        "id": "OkUM_mnHhudC",
        "outputId": "64bc5024-37ed-4c99-990d-ef041c1fd681"
      },
      "outputs": [
        {
          "output_type": "stream",
          "name": "stdout",
          "text": [
            "   ID  Age  Experience  Income  ZIP Code  Family  CCAvg  Education  Mortgage  \\\n",
            "0   1   25           1      49     91107       4    1.6          1         0   \n",
            "1   2   45          19      34     90089       3    1.5          1         0   \n",
            "2   3   39          15      11     94720       1    1.0          1         0   \n",
            "3   4   35           9     100     94112       1    2.7          2         0   \n",
            "4   5   35           8      45     91330       4    1.0          2         0   \n",
            "\n",
            "   Personal Loan  Securities Account  CD Account  Online  CreditCard  \n",
            "0              0                   1           0       0           0  \n",
            "1              0                   1           0       0           0  \n",
            "2              0                   0           0       0           0  \n",
            "3              0                   0           0       0           0  \n",
            "4              0                   0           0       0           1  \n",
            "Index(['ID', 'Age', 'Experience', 'Income', 'ZIP Code', 'Family', 'CCAvg',\n",
            "       'Education', 'Mortgage', 'Personal Loan', 'Securities Account',\n",
            "       'CD Account', 'Online', 'CreditCard'],\n",
            "      dtype='object')\n",
            "                ID          Age   Experience       Income      ZIP Code  \\\n",
            "count  5000.000000  5000.000000  5000.000000  5000.000000   5000.000000   \n",
            "mean   2500.500000    45.338400    20.104600    73.774200  93152.503000   \n",
            "std    1443.520003    11.463166    11.467954    46.033729   2121.852197   \n",
            "min       1.000000    23.000000    -3.000000     8.000000   9307.000000   \n",
            "25%    1250.750000    35.000000    10.000000    39.000000  91911.000000   \n",
            "50%    2500.500000    45.000000    20.000000    64.000000  93437.000000   \n",
            "75%    3750.250000    55.000000    30.000000    98.000000  94608.000000   \n",
            "max    5000.000000    67.000000    43.000000   224.000000  96651.000000   \n",
            "\n",
            "            Family        CCAvg    Education     Mortgage  Personal Loan  \\\n",
            "count  5000.000000  5000.000000  5000.000000  5000.000000    5000.000000   \n",
            "mean      2.396400     1.937938     1.881000    56.498800       0.096000   \n",
            "std       1.147663     1.747659     0.839869   101.713802       0.294621   \n",
            "min       1.000000     0.000000     1.000000     0.000000       0.000000   \n",
            "25%       1.000000     0.700000     1.000000     0.000000       0.000000   \n",
            "50%       2.000000     1.500000     2.000000     0.000000       0.000000   \n",
            "75%       3.000000     2.500000     3.000000   101.000000       0.000000   \n",
            "max       4.000000    10.000000     3.000000   635.000000       1.000000   \n",
            "\n",
            "       Securities Account  CD Account       Online   CreditCard  \n",
            "count         5000.000000  5000.00000  5000.000000  5000.000000  \n",
            "mean             0.104400     0.06040     0.596800     0.294000  \n",
            "std              0.305809     0.23825     0.490589     0.455637  \n",
            "min              0.000000     0.00000     0.000000     0.000000  \n",
            "25%              0.000000     0.00000     0.000000     0.000000  \n",
            "50%              0.000000     0.00000     1.000000     0.000000  \n",
            "75%              0.000000     0.00000     1.000000     1.000000  \n",
            "max              1.000000     1.00000     1.000000     1.000000  \n",
            "<class 'pandas.core.frame.DataFrame'>\n",
            "RangeIndex: 5000 entries, 0 to 4999\n",
            "Data columns (total 14 columns):\n",
            " #   Column              Non-Null Count  Dtype  \n",
            "---  ------              --------------  -----  \n",
            " 0   ID                  5000 non-null   int64  \n",
            " 1   Age                 5000 non-null   int64  \n",
            " 2   Experience          5000 non-null   int64  \n",
            " 3   Income              5000 non-null   int64  \n",
            " 4   ZIP Code            5000 non-null   int64  \n",
            " 5   Family              5000 non-null   int64  \n",
            " 6   CCAvg               5000 non-null   float64\n",
            " 7   Education           5000 non-null   int64  \n",
            " 8   Mortgage            5000 non-null   int64  \n",
            " 9   Personal Loan       5000 non-null   int64  \n",
            " 10  Securities Account  5000 non-null   int64  \n",
            " 11  CD Account          5000 non-null   int64  \n",
            " 12  Online              5000 non-null   int64  \n",
            " 13  CreditCard          5000 non-null   int64  \n",
            "dtypes: float64(1), int64(13)\n",
            "memory usage: 547.0 KB\n",
            "None\n"
          ]
        }
      ],
      "source": [
        "# Explore the dataset\n",
        "# read the first row of the dataset \n",
        "print(df.head())\n",
        "print(df.columns)\n",
        "print(df.describe())\n",
        "print(df.info())"
      ]
    },
    {
      "cell_type": "markdown",
      "metadata": {
        "id": "AiaaNFX2Zf-I"
      },
      "source": [
        "## Clean/transform data (where necessary)"
      ]
    },
    {
      "cell_type": "code",
      "execution_count": 6,
      "metadata": {
        "colab": {
          "base_uri": "https://localhost:8080/"
        },
        "id": "3JuJlVGDkINJ",
        "outputId": "50f5bed1-4fb0-434e-ecab-bcc745674372"
      },
      "outputs": [
        {
          "output_type": "execute_result",
          "data": {
            "text/plain": [
              "Index(['ID', 'Age', 'Experience', 'Income', 'ZIP Code', 'Family', 'CCAvg',\n",
              "       'Education', 'Mortgage', 'Personal Loan', 'Securities Account',\n",
              "       'CD Account', 'Online', 'CreditCard'],\n",
              "      dtype='object')"
            ]
          },
          "metadata": {},
          "execution_count": 6
        }
      ],
      "source": [
        "# based on findings from data exploration, we need to clean up colum names, as there are some leading whitespace characters\n",
        "df.columns = [s.strip() for s in df.columns] \n",
        "df.columns"
      ]
    },
    {
      "cell_type": "markdown",
      "metadata": {
        "id": "SpEZIdEn1uyY"
      },
      "source": [
        "Drop the columns we are not using as predictors (see previous notebooks -- we are given a subset of input variables to consider)"
      ]
    },
    {
      "cell_type": "code",
      "execution_count": 7,
      "metadata": {
        "id": "ofDbm4181uyY"
      },
      "outputs": [],
      "source": [
        "df = df.drop(columns=['ID', 'ZIP Code'])"
      ]
    },
    {
      "cell_type": "code",
      "execution_count": 8,
      "metadata": {
        "colab": {
          "base_uri": "https://localhost:8080/",
          "height": 142
        },
        "id": "DHRLRauL1uyY",
        "outputId": "be9b9551-f427-4f9a-afaa-fee10e197e5a"
      },
      "outputs": [
        {
          "output_type": "execute_result",
          "data": {
            "text/plain": [
              "   Age  Experience  Income  Family  CCAvg  Mortgage  Personal Loan  \\\n",
              "0   25           1      49       4    1.6         0              0   \n",
              "1   45          19      34       3    1.5         0              0   \n",
              "2   39          15      11       1    1.0         0              0   \n",
              "\n",
              "   Securities Account  CD Account  Online  CreditCard  Edu_2  Edu_3  \n",
              "0                   1           0       0           0      0      0  \n",
              "1                   1           0       0           0      0      0  \n",
              "2                   0           0       0           0      0      0  "
            ],
            "text/html": [
              "\n",
              "  <div id=\"df-9258c304-cf1b-41d5-9cbe-f3ef2c776c46\">\n",
              "    <div class=\"colab-df-container\">\n",
              "      <div>\n",
              "<style scoped>\n",
              "    .dataframe tbody tr th:only-of-type {\n",
              "        vertical-align: middle;\n",
              "    }\n",
              "\n",
              "    .dataframe tbody tr th {\n",
              "        vertical-align: top;\n",
              "    }\n",
              "\n",
              "    .dataframe thead th {\n",
              "        text-align: right;\n",
              "    }\n",
              "</style>\n",
              "<table border=\"1\" class=\"dataframe\">\n",
              "  <thead>\n",
              "    <tr style=\"text-align: right;\">\n",
              "      <th></th>\n",
              "      <th>Age</th>\n",
              "      <th>Experience</th>\n",
              "      <th>Income</th>\n",
              "      <th>Family</th>\n",
              "      <th>CCAvg</th>\n",
              "      <th>Mortgage</th>\n",
              "      <th>Personal Loan</th>\n",
              "      <th>Securities Account</th>\n",
              "      <th>CD Account</th>\n",
              "      <th>Online</th>\n",
              "      <th>CreditCard</th>\n",
              "      <th>Edu_2</th>\n",
              "      <th>Edu_3</th>\n",
              "    </tr>\n",
              "  </thead>\n",
              "  <tbody>\n",
              "    <tr>\n",
              "      <th>0</th>\n",
              "      <td>25</td>\n",
              "      <td>1</td>\n",
              "      <td>49</td>\n",
              "      <td>4</td>\n",
              "      <td>1.6</td>\n",
              "      <td>0</td>\n",
              "      <td>0</td>\n",
              "      <td>1</td>\n",
              "      <td>0</td>\n",
              "      <td>0</td>\n",
              "      <td>0</td>\n",
              "      <td>0</td>\n",
              "      <td>0</td>\n",
              "    </tr>\n",
              "    <tr>\n",
              "      <th>1</th>\n",
              "      <td>45</td>\n",
              "      <td>19</td>\n",
              "      <td>34</td>\n",
              "      <td>3</td>\n",
              "      <td>1.5</td>\n",
              "      <td>0</td>\n",
              "      <td>0</td>\n",
              "      <td>1</td>\n",
              "      <td>0</td>\n",
              "      <td>0</td>\n",
              "      <td>0</td>\n",
              "      <td>0</td>\n",
              "      <td>0</td>\n",
              "    </tr>\n",
              "    <tr>\n",
              "      <th>2</th>\n",
              "      <td>39</td>\n",
              "      <td>15</td>\n",
              "      <td>11</td>\n",
              "      <td>1</td>\n",
              "      <td>1.0</td>\n",
              "      <td>0</td>\n",
              "      <td>0</td>\n",
              "      <td>0</td>\n",
              "      <td>0</td>\n",
              "      <td>0</td>\n",
              "      <td>0</td>\n",
              "      <td>0</td>\n",
              "      <td>0</td>\n",
              "    </tr>\n",
              "  </tbody>\n",
              "</table>\n",
              "</div>\n",
              "      <button class=\"colab-df-convert\" onclick=\"convertToInteractive('df-9258c304-cf1b-41d5-9cbe-f3ef2c776c46')\"\n",
              "              title=\"Convert this dataframe to an interactive table.\"\n",
              "              style=\"display:none;\">\n",
              "        \n",
              "  <svg xmlns=\"http://www.w3.org/2000/svg\" height=\"24px\"viewBox=\"0 0 24 24\"\n",
              "       width=\"24px\">\n",
              "    <path d=\"M0 0h24v24H0V0z\" fill=\"none\"/>\n",
              "    <path d=\"M18.56 5.44l.94 2.06.94-2.06 2.06-.94-2.06-.94-.94-2.06-.94 2.06-2.06.94zm-11 1L8.5 8.5l.94-2.06 2.06-.94-2.06-.94L8.5 2.5l-.94 2.06-2.06.94zm10 10l.94 2.06.94-2.06 2.06-.94-2.06-.94-.94-2.06-.94 2.06-2.06.94z\"/><path d=\"M17.41 7.96l-1.37-1.37c-.4-.4-.92-.59-1.43-.59-.52 0-1.04.2-1.43.59L10.3 9.45l-7.72 7.72c-.78.78-.78 2.05 0 2.83L4 21.41c.39.39.9.59 1.41.59.51 0 1.02-.2 1.41-.59l7.78-7.78 2.81-2.81c.8-.78.8-2.07 0-2.86zM5.41 20L4 18.59l7.72-7.72 1.47 1.35L5.41 20z\"/>\n",
              "  </svg>\n",
              "      </button>\n",
              "      \n",
              "  <style>\n",
              "    .colab-df-container {\n",
              "      display:flex;\n",
              "      flex-wrap:wrap;\n",
              "      gap: 12px;\n",
              "    }\n",
              "\n",
              "    .colab-df-convert {\n",
              "      background-color: #E8F0FE;\n",
              "      border: none;\n",
              "      border-radius: 50%;\n",
              "      cursor: pointer;\n",
              "      display: none;\n",
              "      fill: #1967D2;\n",
              "      height: 32px;\n",
              "      padding: 0 0 0 0;\n",
              "      width: 32px;\n",
              "    }\n",
              "\n",
              "    .colab-df-convert:hover {\n",
              "      background-color: #E2EBFA;\n",
              "      box-shadow: 0px 1px 2px rgba(60, 64, 67, 0.3), 0px 1px 3px 1px rgba(60, 64, 67, 0.15);\n",
              "      fill: #174EA6;\n",
              "    }\n",
              "\n",
              "    [theme=dark] .colab-df-convert {\n",
              "      background-color: #3B4455;\n",
              "      fill: #D2E3FC;\n",
              "    }\n",
              "\n",
              "    [theme=dark] .colab-df-convert:hover {\n",
              "      background-color: #434B5C;\n",
              "      box-shadow: 0px 1px 3px 1px rgba(0, 0, 0, 0.15);\n",
              "      filter: drop-shadow(0px 1px 2px rgba(0, 0, 0, 0.3));\n",
              "      fill: #FFFFFF;\n",
              "    }\n",
              "  </style>\n",
              "\n",
              "      <script>\n",
              "        const buttonEl =\n",
              "          document.querySelector('#df-9258c304-cf1b-41d5-9cbe-f3ef2c776c46 button.colab-df-convert');\n",
              "        buttonEl.style.display =\n",
              "          google.colab.kernel.accessAllowed ? 'block' : 'none';\n",
              "\n",
              "        async function convertToInteractive(key) {\n",
              "          const element = document.querySelector('#df-9258c304-cf1b-41d5-9cbe-f3ef2c776c46');\n",
              "          const dataTable =\n",
              "            await google.colab.kernel.invokeFunction('convertToInteractive',\n",
              "                                                     [key], {});\n",
              "          if (!dataTable) return;\n",
              "\n",
              "          const docLinkHtml = 'Like what you see? Visit the ' +\n",
              "            '<a target=\"_blank\" href=https://colab.research.google.com/notebooks/data_table.ipynb>data table notebook</a>'\n",
              "            + ' to learn more about interactive tables.';\n",
              "          element.innerHTML = '';\n",
              "          dataTable['output_type'] = 'display_data';\n",
              "          await google.colab.output.renderOutput(dataTable, element);\n",
              "          const docLink = document.createElement('div');\n",
              "          docLink.innerHTML = docLinkHtml;\n",
              "          element.appendChild(docLink);\n",
              "        }\n",
              "      </script>\n",
              "    </div>\n",
              "  </div>\n",
              "  "
            ]
          },
          "metadata": {},
          "execution_count": 8
        }
      ],
      "source": [
        "# translation education categories into dummy vars\n",
        "df = df.join(pd.get_dummies(df['Education'], prefix='Edu', drop_first=True))\n",
        "df.drop('Education', axis=1, inplace = True)\n",
        "\n",
        "df.head(3)"
      ]
    },
    {
      "cell_type": "markdown",
      "metadata": {
        "id": "ZKY30W1pZxCP"
      },
      "source": [
        "## Split data intro training and validation sets"
      ]
    },
    {
      "cell_type": "code",
      "execution_count": 9,
      "metadata": {
        "id": "d0fAfB0ThudG"
      },
      "outputs": [],
      "source": [
        "# construct datasets for analysis\n",
        "target = 'Personal Loan'\n",
        "predictors = list(df.columns)\n",
        "predictors.remove(target)\n",
        "X = df[predictors]\n",
        "y = df[target]"
      ]
    },
    {
      "cell_type": "code",
      "execution_count": 10,
      "metadata": {
        "id": "t0DkCAoChudI"
      },
      "outputs": [],
      "source": [
        "# create the training set and the test set \n",
        "X_train, X_test, y_train, y_test = train_test_split(X,y, test_size=0.3, random_state=1)"
      ]
    },
    {
      "cell_type": "markdown",
      "metadata": {
        "id": "d2A_u7rQhuc_"
      },
      "source": [
        "## Prediction with Decision Tree (using default parameters)\n",
        "\n"
      ]
    },
    {
      "cell_type": "markdown",
      "metadata": {
        "id": "30gNRdX-qtNT"
      },
      "source": [
        "You can find details about SKLearm's DecisionTree classifier [here](https://scikit-learn.org/stable/modules/generated/sklearn.tree.DecisionTreeClassifier.html)."
      ]
    },
    {
      "cell_type": "markdown",
      "metadata": {
        "id": "bbPfUmcEXf6K"
      },
      "source": [
        "Create a decision tree using all of the default parameters"
      ]
    },
    {
      "cell_type": "code",
      "execution_count": 11,
      "metadata": {
        "id": "UZ60Vn1AhudK"
      },
      "outputs": [],
      "source": [
        "dtree=DecisionTreeClassifier()"
      ]
    },
    {
      "cell_type": "markdown",
      "metadata": {
        "id": "ntgxBhvJXkjp"
      },
      "source": [
        "Fit the model to the training data"
      ]
    },
    {
      "cell_type": "code",
      "execution_count": 12,
      "metadata": {
        "id": "xPL4rRlVhudM"
      },
      "outputs": [],
      "source": [
        "_ = dtree.fit(X_train, y_train)"
      ]
    },
    {
      "cell_type": "markdown",
      "metadata": {
        "id": "AMvD4-9wXy_1"
      },
      "source": [
        "Review of the performance of the model on the validation/test data"
      ]
    },
    {
      "cell_type": "code",
      "execution_count": 13,
      "metadata": {
        "id": "q6LQj2H41uyc"
      },
      "outputs": [],
      "source": [
        "y_pred = dtree.predict(X_test)"
      ]
    },
    {
      "cell_type": "code",
      "execution_count": 14,
      "metadata": {
        "colab": {
          "base_uri": "https://localhost:8080/"
        },
        "id": "YAcO31dIX7JE",
        "outputId": "127c5fd7-a9a9-460b-f22d-9c228bf5231d"
      },
      "outputs": [
        {
          "output_type": "stream",
          "name": "stdout",
          "text": [
            "      Model             Score       \n",
            "************************************\n",
            ">> Recall Score:  0.9060402684563759\n",
            "Accuracy Score:   0.9873333333333333\n",
            "Precision Score:  0.9642857142857143\n",
            "F1 Score:         0.9342560553633219\n"
          ]
        }
      ],
      "source": [
        "print(f\"{'Model':^18}{'Score':^18}\")\n",
        "print(\"************************************\")\n",
        "print(f\"{'>> Recall Score:':18}{recall_score(y_test, y_pred)}\")\n",
        "print(f\"{'Accuracy Score: ':18}{accuracy_score(y_test, y_pred)}\")\n",
        "print(f\"{'Precision Score: ':18}{precision_score(y_test, y_pred)}\")\n",
        "print(f\"{'F1 Score: ':18}{f1_score(y_test, y_pred)}\")"
      ]
    },
    {
      "cell_type": "markdown",
      "metadata": {
        "id": "yDTLI9r01uye"
      },
      "source": [
        "Save the recall result from this model"
      ]
    },
    {
      "cell_type": "code",
      "execution_count": 15,
      "metadata": {
        "id": "TYK4ycDn1uye"
      },
      "outputs": [],
      "source": [
        "dtree_recall = recall_score(y_test, y_pred)"
      ]
    },
    {
      "cell_type": "markdown",
      "metadata": {
        "id": "nkEzhd_V1uye"
      },
      "source": [
        "## Prediction with RandomForest (using default parameters)"
      ]
    },
    {
      "cell_type": "markdown",
      "metadata": {
        "id": "oQLpUDIG1uye"
      },
      "source": [
        "Like all our classifiers, RandomeForestClassifier has a number of parameters that can be adjusted/tuned. In this example below, we simply accept the defaults. You may want to experiment with changing the defaul values and also use GridSearchCV to explore ranges of values.\n",
        "\n",
        "* n_estimators: The number of trees in the forsest\n",
        "    - A deeper tree might increase the performance, but also the complexity and chances to overfit.\n",
        "    - The value must be an integer greater than 0. Default is 100.  \n",
        "* max_depth: The maximum depth per tree. \n",
        "    - Deeper trees might increase the performance, but also the complexity and chances to overfit.\n",
        "    - The value must be an integer greater than 0. Default is None, which allows the tree to grow without constraint.\n",
        "* See the SciKit Learn documentation for more details. https://scikit-learn.org/stable/modules/generated/sklearn.ensemble.RandomForestClassifier.html\n"
      ]
    },
    {
      "cell_type": "code",
      "execution_count": 16,
      "metadata": {
        "id": "BulSMA_Q1uyf"
      },
      "outputs": [],
      "source": [
        "rforest = RandomForestClassifier()"
      ]
    },
    {
      "cell_type": "code",
      "execution_count": 17,
      "metadata": {
        "id": "ZePR978j1uyg"
      },
      "outputs": [],
      "source": [
        "_ = rforest.fit(X_train, y_train)"
      ]
    },
    {
      "cell_type": "code",
      "execution_count": 18,
      "metadata": {
        "id": "Q79sHeXu1uyj"
      },
      "outputs": [],
      "source": [
        "y_pred = rforest.predict(X_test)"
      ]
    },
    {
      "cell_type": "code",
      "execution_count": 19,
      "metadata": {
        "colab": {
          "base_uri": "https://localhost:8080/"
        },
        "id": "wLIweoGf1uyj",
        "outputId": "35f52a1a-ab63-4728-f6a9-b62facd8d2fa"
      },
      "outputs": [
        {
          "output_type": "stream",
          "name": "stdout",
          "text": [
            "      Model             Score       \n",
            "************************************\n",
            ">> Recall Score:  0.8456375838926175\n",
            "Accuracy Score:   0.9833333333333333\n",
            "Precision Score:  0.984375\n",
            "F1 Score:         0.9097472924187726\n"
          ]
        }
      ],
      "source": [
        "print(f\"{'Model':^18}{'Score':^18}\")\n",
        "print(\"************************************\")\n",
        "print(f\"{'>> Recall Score:':18}{recall_score(y_test, y_pred)}\")\n",
        "print(f\"{'Accuracy Score: ':18}{accuracy_score(y_test, y_pred)}\")\n",
        "print(f\"{'Precision Score: ':18}{precision_score(y_test, y_pred)}\")\n",
        "print(f\"{'F1 Score: ':18}{f1_score(y_test, y_pred)}\")"
      ]
    },
    {
      "cell_type": "markdown",
      "metadata": {
        "id": "Zi4-mUtk1uyk"
      },
      "source": [
        "Save the recall result from this model"
      ]
    },
    {
      "cell_type": "code",
      "execution_count": 20,
      "metadata": {
        "id": "Y07NYQkp1uyk"
      },
      "outputs": [],
      "source": [
        "rforest_recall = recall_score(y_test, y_pred)"
      ]
    },
    {
      "cell_type": "markdown",
      "metadata": {
        "id": "i5fdixFA1uyk"
      },
      "source": [
        "RandomForestClassifier using RandomizedSearchCV"
      ]
    },
    {
      "cell_type": "code",
      "execution_count": 22,
      "metadata": {
        "colab": {
          "base_uri": "https://localhost:8080/"
        },
        "id": "4xzmoWAE1uyk",
        "outputId": "7f70716b-4376-4490-ef31-6d74dbff7729"
      },
      "outputs": [
        {
          "output_type": "stream",
          "name": "stdout",
          "text": [
            "Fitting 5 folds for each of 400 candidates, totalling 2000 fits\n",
            "The best recall score is 0.8609226594301221\n",
            "... with parameters: {'n_estimators': 225, 'min_weight_fraction_leaf': 0.0, 'min_samples_split': 13, 'min_samples_leaf': 3, 'min_impurity_decrease': 0.0006000000000000001, 'max_leaf_nodes': 43, 'max_depth': 40, 'criterion': 'entropy'}\n"
          ]
        }
      ],
      "source": [
        "score_measure = \"recall\"\n",
        "kfolds = 5\n",
        "\n",
        "param_grid = {\n",
        "    'n_estimators':np.arange(100,250),\n",
        "    'min_samples_split': np.arange(1,25),  \n",
        "    'min_samples_leaf': np.arange(1,20),\n",
        "    'min_weight_fraction_leaf':np.arange(0.0,1.5),\n",
        "    'min_impurity_decrease': np.arange(0.0001, 0.01, 0.0005),\n",
        "    'max_leaf_nodes': np.arange(5,50), \n",
        "    'max_depth': np.arange(1,50), \n",
        "    'criterion': ['entropy', 'gini'],\n",
        "}\n",
        "\n",
        "\n",
        "rand_search = RandomizedSearchCV(estimator = rforest,param_distributions=param_grid, cv=kfolds, n_iter=400,\n",
        "                           scoring=score_measure, verbose=1, n_jobs=-1,  # n_jobs=-1 will utilize all available CPUs \n",
        "                           return_train_score=True)\n",
        "\n",
        "_ = rand_search.fit(X_train, y_train)\n",
        "\n",
        "print(f\"The best {score_measure} score is {rand_search.best_score_}\")\n",
        "print(f\"... with parameters: {rand_search.best_params_}\")\n",
        "\n",
        "bestRecallTree = rand_search.best_estimator_\n",
        "import warnings\n",
        "warnings.filterwarnings(\"ignore\")"
      ]
    },
    {
      "cell_type": "code",
      "source": [
        "y_pred = rand_search.predict(X_test)"
      ],
      "metadata": {
        "id": "boHkcNx53DYQ"
      },
      "execution_count": 23,
      "outputs": []
    },
    {
      "cell_type": "code",
      "source": [
        "print(f\"{'Model':^18}{'Score':^18}\")\n",
        "print(\"************************************\")\n",
        "print(f\"{'>> Recall Score:':18}{recall_score(y_test, y_pred)}\")\n",
        "print(f\"{'Accuracy Score: ':18}{accuracy_score(y_test, y_pred)}\")\n",
        "print(f\"{'Precision Score: ':18}{precision_score(y_test, y_pred)}\")\n",
        "print(f\"{'F1 Score: ':18}{f1_score(y_test, y_pred)}\")"
      ],
      "metadata": {
        "colab": {
          "base_uri": "https://localhost:8080/"
        },
        "id": "YoRGlIY53VV9",
        "outputId": "7a0105cd-80b9-4380-ec40-f5c244336bc4"
      },
      "execution_count": 24,
      "outputs": [
        {
          "output_type": "stream",
          "name": "stdout",
          "text": [
            "      Model             Score       \n",
            "************************************\n",
            ">> Recall Score:  0.7718120805369127\n",
            "Accuracy Score:   0.9746666666666667\n",
            "Precision Score:  0.9663865546218487\n",
            "F1 Score:         0.8582089552238806\n"
          ]
        }
      ]
    },
    {
      "cell_type": "code",
      "source": [
        "rforest_rsearch_recall = recall_score(y_test, y_pred)"
      ],
      "metadata": {
        "id": "Lwm05r-s3bvx"
      },
      "execution_count": 25,
      "outputs": []
    },
    {
      "cell_type": "markdown",
      "metadata": {
        "id": "v25BGBqU1uyk"
      },
      "source": [
        "## Prediction with ADABoost (using default parameters)"
      ]
    },
    {
      "cell_type": "markdown",
      "metadata": {
        "id": "GA-5Ctn21uyk"
      },
      "source": [
        "Like all our classifiers, ADABoostClassifier has a number of parameters that can be adjusted/tuned. In this example below, we simply accept the defaults. You may want to experiment with changing the defaul values and also use GridSearchCV to explore ranges of values.\n",
        "\n",
        "* max_depth: The maximum depth per tree. \n",
        "    - A deeper tree might increase the performance, but also the complexity and chances to overfit.\n",
        "    - The value must be an integer greater than 0. Default is None (meaning, the tree can grow to a point where all leaves have 1 observation).\n",
        "* learning_rate: The learning rate determines the step size at each iteration while your model optimizes toward its objective. \n",
        "    - A low learning rate makes computation slower, and requires more rounds to achieve the same reduction in residual error as a model with a high learning rate. But it optimizes the chances to reach the best optimum.\n",
        "    - Larger learning rates may not converge on a solution.\n",
        "    - The value must be between 0 and 1. Default is 0.3.\n",
        "* n_estimators: The number of trees in our ensemble. \n",
        "    - Equivalent to the number of boosting rounds.\n",
        "    - The value must be an integer greater than 0. Default is 100.\n",
        "* See the SciKit Learn documentation for more details. https://scikit-learn.org/stable/modules/generated/sklearn.ensemble.AdaBoostClassifier.html"
      ]
    },
    {
      "cell_type": "code",
      "execution_count": 26,
      "metadata": {
        "id": "4-XQOcbm1uyl"
      },
      "outputs": [],
      "source": [
        "aboost = AdaBoostClassifier()"
      ]
    },
    {
      "cell_type": "code",
      "execution_count": 27,
      "metadata": {
        "id": "K5hC8m2-1uyl"
      },
      "outputs": [],
      "source": [
        "_ = aboost.fit(X_train, y_train)"
      ]
    },
    {
      "cell_type": "code",
      "execution_count": 28,
      "metadata": {
        "id": "ScYecLuG1uym"
      },
      "outputs": [],
      "source": [
        "y_pred = aboost.predict(X_test)"
      ]
    },
    {
      "cell_type": "code",
      "execution_count": 29,
      "metadata": {
        "colab": {
          "base_uri": "https://localhost:8080/"
        },
        "id": "EWkSllTW1uyn",
        "outputId": "777eb785-5c07-45fc-9c79-30dc51bfeae0"
      },
      "outputs": [
        {
          "output_type": "stream",
          "name": "stdout",
          "text": [
            "      Model             Score       \n",
            "************************************\n",
            ">> Recall Score:  0.7248322147651006\n",
            "Accuracy Score:   0.9626666666666667\n",
            "Precision Score:  0.8780487804878049\n",
            "F1 Score:         0.7941176470588235\n"
          ]
        }
      ],
      "source": [
        "print(f\"{'Model':^18}{'Score':^18}\")\n",
        "print(\"************************************\")\n",
        "print(f\"{'>> Recall Score:':18}{recall_score(y_test, y_pred)}\")\n",
        "print(f\"{'Accuracy Score: ':18}{accuracy_score(y_test, y_pred)}\")\n",
        "print(f\"{'Precision Score: ':18}{precision_score(y_test, y_pred)}\")\n",
        "print(f\"{'F1 Score: ':18}{f1_score(y_test, y_pred)}\")"
      ]
    },
    {
      "cell_type": "markdown",
      "metadata": {
        "id": "SgwY9PDV1uyp"
      },
      "source": [
        "Save the recall result from this model"
      ]
    },
    {
      "cell_type": "code",
      "execution_count": 30,
      "metadata": {
        "id": "l4-HnE8z1uyp"
      },
      "outputs": [],
      "source": [
        "aboost_recall = recall_score(y_test, y_pred)"
      ]
    },
    {
      "cell_type": "markdown",
      "metadata": {
        "id": "G_sTsFFV1uyp"
      },
      "source": [
        "## Prediction with GradientBoostingClassifier"
      ]
    },
    {
      "cell_type": "markdown",
      "metadata": {
        "id": "WOEz2_Rc1uyp"
      },
      "source": [
        "Like all our classifiers, GradientBoostingClassifier has a number of parameters that can be adjusted/tuned. In this example below, we simply accept the defaults. You may want to experiment with changing the defaul values and also use GridSearchCV to explore ranges of values.\n",
        "\n",
        "* max_depth: The maximum depth per tree. \n",
        "    - A deeper tree might increase the performance, but also the complexity and chances to overfit.\n",
        "    - The value must be an integer greater than 0. Default is None (meaning, the tree can grow to a point where all leaves have 1 observation).\n",
        "* learning_rate: The learning rate determines the step size at each iteration while your model optimizes toward its objective. \n",
        "    - A low learning rate makes computation slower, and requires more rounds to achieve the same reduction in residual error as a model with a high learning rate. But it optimizes the chances to reach the best optimum.\n",
        "    - Larger learning rates may not converge on a solution.\n",
        "    - The value must be between 0 and 1. Default is 0.3.\n",
        "* n_estimators: The number of trees in our ensemble. \n",
        "    - Equivalent to the number of boosting rounds.\n",
        "    - The value must be an integer greater than 0. Default is 100.\n",
        "* See the SciKit Learn documentation for more details. https://scikit-learn.org/stable/modules/generated/sklearn.ensemble.GradientBoostingClassifier.html"
      ]
    },
    {
      "cell_type": "code",
      "execution_count": 31,
      "metadata": {
        "id": "pJInj5jE1uyq"
      },
      "outputs": [],
      "source": [
        "gboost = GradientBoostingClassifier()"
      ]
    },
    {
      "cell_type": "code",
      "execution_count": 32,
      "metadata": {
        "id": "rZGXqtch1uyq"
      },
      "outputs": [],
      "source": [
        "_ = gboost.fit(X_train, y_train)"
      ]
    },
    {
      "cell_type": "code",
      "execution_count": 33,
      "metadata": {
        "id": "40ERAS7J1uyq"
      },
      "outputs": [],
      "source": [
        "y_pred = gboost.predict(X_test)"
      ]
    },
    {
      "cell_type": "code",
      "execution_count": 34,
      "metadata": {
        "colab": {
          "base_uri": "https://localhost:8080/"
        },
        "id": "uow-u_641uyq",
        "outputId": "fbf32c95-83b8-426d-f670-29854c631cbf"
      },
      "outputs": [
        {
          "output_type": "stream",
          "name": "stdout",
          "text": [
            "      Model             Score       \n",
            "************************************\n",
            ">> Recall Score:  0.8657718120805369\n",
            "Accuracy Score:   0.9826666666666667\n",
            "Precision Score:  0.9555555555555556\n",
            "F1 Score:         0.9084507042253522\n"
          ]
        }
      ],
      "source": [
        "print(f\"{'Model':^18}{'Score':^18}\")\n",
        "print(\"************************************\")\n",
        "print(f\"{'>> Recall Score:':18}{recall_score(y_test, y_pred)}\")\n",
        "print(f\"{'Accuracy Score: ':18}{accuracy_score(y_test, y_pred)}\")\n",
        "print(f\"{'Precision Score: ':18}{precision_score(y_test, y_pred)}\")\n",
        "print(f\"{'F1 Score: ':18}{f1_score(y_test, y_pred)}\")"
      ]
    },
    {
      "cell_type": "markdown",
      "metadata": {
        "id": "vZZVl76T1uyq"
      },
      "source": [
        "Save the recall result from this model"
      ]
    },
    {
      "cell_type": "code",
      "execution_count": 35,
      "metadata": {
        "id": "5qoCY5Rr1uyq"
      },
      "outputs": [],
      "source": [
        "gboost_recall = recall_score(y_test, y_pred)"
      ]
    },
    {
      "cell_type": "markdown",
      "metadata": {
        "id": "Wdr9GLzV1uyq"
      },
      "source": [
        "## Prediction with XGBoost"
      ]
    },
    {
      "cell_type": "markdown",
      "metadata": {
        "id": "6cP1C7gC1uyq"
      },
      "source": [
        "Like all our classifiers, XGBoost has a number of parameters that can be adjusted/tuned. In this example below, we simply accept the defaults. You may want to experiment with changing the defaul values and also use GridSearchCV to explore ranges of values.\n",
        "\n",
        "* max_depth: The maximum depth per tree. \n",
        "    - A deeper tree might increase the performance, but also the complexity and chances to overfit.\n",
        "    - The value must be an integer greater than 0. Default is 6.\n",
        "* learning_rate: The learning rate determines the step size at each iteration while your model optimizes toward its objective. \n",
        "    - A low learning rate makes computation slower, and requires more rounds to achieve the same reduction in residual error as a model with a high learning rate. But it optimizes the chances to reach the best optimum.\n",
        "    - The value must be between 0 and 1. Default is 0.3.\n",
        "* n_estimators: The number of trees in our ensemble. \n",
        "    - Equivalent to the number of boosting rounds.\n",
        "    - The value must be an integer greater than 0. Default is 100.\n",
        "* colsample_bytree: Represents the fraction of columns to be randomly sampled for each tree. \n",
        "    - It might improve overfitting.\n",
        "    - The value must be between 0 and 1. Default is 1.\n",
        "* subsample: Represents the fraction of observations to be sampled for each tree. \n",
        "    - A lower values prevent overfitting but might lead to under-fitting.\n",
        "    - The value must be between 0 and 1. Default is 1.\n",
        "* See the XGBoost documentation for more details. https://xgboost.readthedocs.io/en/latest/python/python_api.html#module-xgboost.sklearn "
      ]
    },
    {
      "cell_type": "code",
      "execution_count": 36,
      "metadata": {
        "id": "y4NXnWty1uyr"
      },
      "outputs": [],
      "source": [
        "xgboost = XGBClassifier()"
      ]
    },
    {
      "cell_type": "code",
      "execution_count": 37,
      "metadata": {
        "id": "wd6BwMCI1uyr"
      },
      "outputs": [],
      "source": [
        "_ = xgboost.fit(X_train, y_train)"
      ]
    },
    {
      "cell_type": "code",
      "execution_count": 38,
      "metadata": {
        "id": "oeuYK_A91uyr"
      },
      "outputs": [],
      "source": [
        "y_pred = xgboost.predict(X_test)"
      ]
    },
    {
      "cell_type": "code",
      "execution_count": 39,
      "metadata": {
        "colab": {
          "base_uri": "https://localhost:8080/"
        },
        "id": "omlS-mTP1uyr",
        "outputId": "668bf4a2-9aca-49d4-82f9-9fa9c12ae90a"
      },
      "outputs": [
        {
          "output_type": "stream",
          "name": "stdout",
          "text": [
            "      Model             Score       \n",
            "************************************\n",
            ">> Recall Score:  0.8926174496644296\n",
            "Accuracy Score:   0.9853333333333333\n",
            "Precision Score:  0.9568345323741008\n",
            "F1 Score:         0.9236111111111113\n"
          ]
        }
      ],
      "source": [
        "print(f\"{'Model':^18}{'Score':^18}\")\n",
        "print(\"************************************\")\n",
        "print(f\"{'>> Recall Score:':18}{recall_score(y_test, y_pred)}\")\n",
        "print(f\"{'Accuracy Score: ':18}{accuracy_score(y_test, y_pred)}\")\n",
        "print(f\"{'Precision Score: ':18}{precision_score(y_test, y_pred)}\")\n",
        "print(f\"{'F1 Score: ':18}{f1_score(y_test, y_pred)}\")"
      ]
    },
    {
      "cell_type": "markdown",
      "metadata": {
        "id": "MK2jhva91uyr"
      },
      "source": [
        "Save the recall result from this model"
      ]
    },
    {
      "cell_type": "code",
      "execution_count": 40,
      "metadata": {
        "id": "2lIjWVIU1uyr"
      },
      "outputs": [],
      "source": [
        "xgboost = recall_score(y_test, y_pred)"
      ]
    },
    {
      "cell_type": "markdown",
      "metadata": {
        "id": "762ohsx31uyr"
      },
      "source": [
        "## Step 6: Summarize results    \n",
        "\n",
        "As usual -- in this section you provide a recap your approach, results, and discussion of findings. \n"
      ]
    },
    {
      "cell_type": "code",
      "execution_count": 42,
      "metadata": {
        "colab": {
          "base_uri": "https://localhost:8080/"
        },
        "id": "Bl1AYvqO1uyu",
        "outputId": "faaa062b-2e57-4845-d478-2eeb6f438009"
      },
      "outputs": [
        {
          "output_type": "stream",
          "name": "stdout",
          "text": [
            "Recall scores...\n",
            "Decision Tree:                   0.9060402684563759\n",
            "Random Forest:                   0.8456375838926175\n",
            "Random Forest using RandomSearch:0.7718120805369127\n",
            "Ada Boosted Tree:                0.7248322147651006\n",
            "Gradient Tree:                   0.8657718120805369\n",
            "XGBoost Tree:                    0.8926174496644296\n"
          ]
        }
      ],
      "source": [
        "print(\"Recall scores...\")\n",
        "print(f\"{'Decision Tree:':33}{dtree_recall}\")\n",
        "print(f\"{'Random Forest:':33}{rforest_recall}\")\n",
        "print(f\"{'Random Forest using RandomSearch:':18}{rforest_rsearch_recall}\")\n",
        "print(f\"{'Ada Boosted Tree:':33}{aboost_recall}\")\n",
        "print(f\"{'Gradient Tree:':33}{gboost_recall}\")\n",
        "print(f\"{'XGBoost Tree:':33}{xgboost}\")"
      ]
    },
    {
      "cell_type": "markdown",
      "source": [
        "The Recall value of the Random Forest is more than the Random Forest using Random search. We are considering Recall as the metric as False Positives gives more loss. So minimal no. of False Positives are preferred. It might perform better if the parameters and values are changed in Random Search. In this case, Random Forest with default values fit the data better than the range of values and parameters considered in Random search."
      ],
      "metadata": {
        "id": "ksbJ-Jvg8EsW"
      }
    }
  ],
  "metadata": {
    "accelerator": "TPU",
    "colab": {
      "machine_shape": "hm",
      "provenance": []
    },
    "kernelspec": {
      "display_name": "Python 3 (ipykernel)",
      "language": "python",
      "name": "python3"
    },
    "language_info": {
      "codemirror_mode": {
        "name": "ipython",
        "version": 3
      },
      "file_extension": ".py",
      "mimetype": "text/x-python",
      "name": "python",
      "nbconvert_exporter": "python",
      "pygments_lexer": "ipython3",
      "version": "3.9.12"
    },
    "vscode": {
      "interpreter": {
        "hash": "b056086e24cb5602cbcb82122035cd3d6ee2ccbf5df29c16e348c108b0f83be3"
      }
    }
  },
  "nbformat": 4,
  "nbformat_minor": 0
}