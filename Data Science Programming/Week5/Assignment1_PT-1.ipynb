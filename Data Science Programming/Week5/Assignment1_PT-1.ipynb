{
 "cells": [
  {
   "cell_type": "markdown",
   "id": "2313325d",
   "metadata": {},
   "source": [
    "# Risk Factor prediction of Chronic Kidney Disease Data Set"
   ]
  },
  {
   "attachments": {},
   "cell_type": "markdown",
   "id": "03537784",
   "metadata": {},
   "source": [
    "Dataset link - https://archive.ics.uci.edu/ml/datasets/Risk+Factor+prediction+of+Chronic+Kidney+Disease#\n",
    "\n",
    "I selected this dataset from UCI ML Repository. This dataset contains the patients data who were affected by chronic kidney disease. \n",
    "Following are the columns in the dataset-\n",
    "1. bp(Diastolic)\n",
    "2. bp limit\n",
    "3. sg\n",
    "4. al\n",
    "5. class\n",
    "6. rbc\n",
    "7. su\n",
    "8. pc\n",
    "9. pcc\n",
    "10. ba\n",
    "11. bgr\n",
    "12. bu\n",
    "13. sod\n",
    "14. sc\n",
    "15. pot\n",
    "16. hemo\n",
    "17. pcv\n",
    "18. rbcc\n",
    "19. wbcc\n",
    "20. htn\n",
    "21. dm\n",
    "22. cad\n",
    "23. appet\n",
    "24. pe\n",
    "25. ane\n",
    "26. grf\n",
    "27. stage\n",
    "28. affected\n",
    "29. age\n",
    "\n",
    "For this dataset, I preprocessed the data first as it has noise,then did the split of data and addressed the data imbalance. Later on fitted the ML models on the resulting dataset. \n",
    "\n",
    "Since this is a Classification problem, I chose Logistic Regression, Decision Tree, Random Forest, AdaBoost and Gradient Boost models."
   ]
  },
  {
   "cell_type": "markdown",
   "id": "2ec3262a",
   "metadata": {},
   "source": [
    "**Importing Packages**"
   ]
  },
  {
   "cell_type": "code",
   "execution_count": 67,
   "id": "6599a773",
   "metadata": {},
   "outputs": [],
   "source": [
    "import numpy as np\n",
    "import pandas as pd\n",
    "from sklearn.preprocessing import LabelEncoder\n",
    "from sklearn.model_selection import train_test_split\n",
    "from sklearn import preprocessing\n",
    "from sklearn.metrics import confusion_matrix\n",
    "from sklearn.tree import DecisionTreeClassifier\n",
    "from sklearn.linear_model import LogisticRegression\n",
    "from sklearn.ensemble import RandomForestClassifier, GradientBoostingClassifier, AdaBoostClassifier"
   ]
  },
  {
   "cell_type": "code",
   "execution_count": 68,
   "id": "864bdb33",
   "metadata": {},
   "outputs": [],
   "source": [
    "np.random.seed(1)"
   ]
  },
  {
   "cell_type": "markdown",
   "id": "6dc48d99",
   "metadata": {},
   "source": [
    "**Loading data**"
   ]
  },
  {
   "cell_type": "code",
   "execution_count": 69,
   "id": "f58c2445",
   "metadata": {},
   "outputs": [],
   "source": [
    "ckd=pd.read_csv(\"C:/Users/prath/Downloads/ckd-dataset-v2.csv\")"
   ]
  },
  {
   "cell_type": "markdown",
   "id": "b050f52b",
   "metadata": {},
   "source": [
    "**Exploring data**"
   ]
  },
  {
   "cell_type": "code",
   "execution_count": 70,
   "id": "49d15aef",
   "metadata": {},
   "outputs": [
    {
     "data": {
      "text/html": [
       "<div>\n",
       "<style scoped>\n",
       "    .dataframe tbody tr th:only-of-type {\n",
       "        vertical-align: middle;\n",
       "    }\n",
       "\n",
       "    .dataframe tbody tr th {\n",
       "        vertical-align: top;\n",
       "    }\n",
       "\n",
       "    .dataframe thead th {\n",
       "        text-align: right;\n",
       "    }\n",
       "</style>\n",
       "<table border=\"1\" class=\"dataframe\">\n",
       "  <thead>\n",
       "    <tr style=\"text-align: right;\">\n",
       "      <th></th>\n",
       "      <th>bp (Diastolic)</th>\n",
       "      <th>bp limit</th>\n",
       "      <th>sg</th>\n",
       "      <th>al</th>\n",
       "      <th>class</th>\n",
       "      <th>rbc</th>\n",
       "      <th>su</th>\n",
       "      <th>pc</th>\n",
       "      <th>pcc</th>\n",
       "      <th>ba</th>\n",
       "      <th>...</th>\n",
       "      <th>htn</th>\n",
       "      <th>dm</th>\n",
       "      <th>cad</th>\n",
       "      <th>appet</th>\n",
       "      <th>pe</th>\n",
       "      <th>ane</th>\n",
       "      <th>grf</th>\n",
       "      <th>stage</th>\n",
       "      <th>affected</th>\n",
       "      <th>age</th>\n",
       "    </tr>\n",
       "  </thead>\n",
       "  <tbody>\n",
       "    <tr>\n",
       "      <th>0</th>\n",
       "      <td>0</td>\n",
       "      <td>0</td>\n",
       "      <td>1.019 - 1.021</td>\n",
       "      <td>1-Jan</td>\n",
       "      <td>ckd</td>\n",
       "      <td>0</td>\n",
       "      <td>&lt; 0</td>\n",
       "      <td>0</td>\n",
       "      <td>0</td>\n",
       "      <td>0</td>\n",
       "      <td>...</td>\n",
       "      <td>0</td>\n",
       "      <td>0</td>\n",
       "      <td>0</td>\n",
       "      <td>0</td>\n",
       "      <td>0</td>\n",
       "      <td>0</td>\n",
       "      <td>≥ 227.944</td>\n",
       "      <td>s1</td>\n",
       "      <td>1</td>\n",
       "      <td>&lt; 12</td>\n",
       "    </tr>\n",
       "    <tr>\n",
       "      <th>1</th>\n",
       "      <td>0</td>\n",
       "      <td>0</td>\n",
       "      <td>1.009 - 1.011</td>\n",
       "      <td>&lt; 0</td>\n",
       "      <td>ckd</td>\n",
       "      <td>0</td>\n",
       "      <td>&lt; 0</td>\n",
       "      <td>0</td>\n",
       "      <td>0</td>\n",
       "      <td>0</td>\n",
       "      <td>...</td>\n",
       "      <td>0</td>\n",
       "      <td>0</td>\n",
       "      <td>0</td>\n",
       "      <td>0</td>\n",
       "      <td>0</td>\n",
       "      <td>0</td>\n",
       "      <td>≥ 227.944</td>\n",
       "      <td>s1</td>\n",
       "      <td>1</td>\n",
       "      <td>&lt; 12</td>\n",
       "    </tr>\n",
       "    <tr>\n",
       "      <th>2</th>\n",
       "      <td>0</td>\n",
       "      <td>0</td>\n",
       "      <td>1.009 - 1.011</td>\n",
       "      <td>≥ 4</td>\n",
       "      <td>ckd</td>\n",
       "      <td>1</td>\n",
       "      <td>&lt; 0</td>\n",
       "      <td>1</td>\n",
       "      <td>0</td>\n",
       "      <td>1</td>\n",
       "      <td>...</td>\n",
       "      <td>0</td>\n",
       "      <td>0</td>\n",
       "      <td>0</td>\n",
       "      <td>1</td>\n",
       "      <td>0</td>\n",
       "      <td>0</td>\n",
       "      <td>127.281 - 152.446</td>\n",
       "      <td>s1</td>\n",
       "      <td>1</td>\n",
       "      <td>&lt; 12</td>\n",
       "    </tr>\n",
       "  </tbody>\n",
       "</table>\n",
       "<p>3 rows × 29 columns</p>\n",
       "</div>"
      ],
      "text/plain": [
       "   bp (Diastolic)  bp limit             sg     al class  rbc   su  pc  pcc  \\\n",
       "0               0         0  1.019 - 1.021  1-Jan   ckd    0  < 0   0    0   \n",
       "1               0         0  1.009 - 1.011    < 0   ckd    0  < 0   0    0   \n",
       "2               0         0  1.009 - 1.011    ≥ 4   ckd    1  < 0   1    0   \n",
       "\n",
       "   ba  ... htn dm cad appet pe ane                grf stage affected   age  \n",
       "0   0  ...   0  0   0     0  0   0          ≥ 227.944    s1        1  < 12  \n",
       "1   0  ...   0  0   0     0  0   0          ≥ 227.944    s1        1  < 12  \n",
       "2   1  ...   0  0   0     1  0   0  127.281 - 152.446    s1        1  < 12  \n",
       "\n",
       "[3 rows x 29 columns]"
      ]
     },
     "execution_count": 70,
     "metadata": {},
     "output_type": "execute_result"
    }
   ],
   "source": [
    "ckd.head(3)"
   ]
  },
  {
   "cell_type": "code",
   "execution_count": 71,
   "id": "6123c516",
   "metadata": {},
   "outputs": [
    {
     "name": "stdout",
     "output_type": "stream",
     "text": [
      "<class 'pandas.core.frame.DataFrame'>\n",
      "RangeIndex: 200 entries, 0 to 199\n",
      "Data columns (total 29 columns):\n",
      " #   Column          Non-Null Count  Dtype \n",
      "---  ------          --------------  ----- \n",
      " 0   bp (Diastolic)  200 non-null    int64 \n",
      " 1   bp limit        200 non-null    int64 \n",
      " 2   sg              200 non-null    object\n",
      " 3   al              200 non-null    object\n",
      " 4   class           200 non-null    object\n",
      " 5   rbc             200 non-null    int64 \n",
      " 6   su              200 non-null    object\n",
      " 7   pc              200 non-null    int64 \n",
      " 8   pcc             200 non-null    int64 \n",
      " 9   ba              200 non-null    int64 \n",
      " 10  bgr             200 non-null    object\n",
      " 11  bu              200 non-null    object\n",
      " 12  sod             200 non-null    object\n",
      " 13  sc              200 non-null    object\n",
      " 14  pot             200 non-null    object\n",
      " 15  hemo            200 non-null    object\n",
      " 16  pcv             200 non-null    object\n",
      " 17  rbcc            200 non-null    object\n",
      " 18  wbcc            200 non-null    object\n",
      " 19  htn             200 non-null    int64 \n",
      " 20  dm              200 non-null    int64 \n",
      " 21  cad             200 non-null    int64 \n",
      " 22  appet           200 non-null    int64 \n",
      " 23  pe              200 non-null    int64 \n",
      " 24  ane             200 non-null    int64 \n",
      " 25  grf             200 non-null    object\n",
      " 26  stage           200 non-null    object\n",
      " 27  affected        200 non-null    int64 \n",
      " 28  age             200 non-null    object\n",
      "dtypes: int64(13), object(16)\n",
      "memory usage: 45.4+ KB\n"
     ]
    }
   ],
   "source": [
    "ckd.info()"
   ]
  },
  {
   "cell_type": "code",
   "execution_count": 72,
   "id": "ddacb27b",
   "metadata": {},
   "outputs": [
    {
     "data": {
      "text/html": [
       "<div>\n",
       "<style scoped>\n",
       "    .dataframe tbody tr th:only-of-type {\n",
       "        vertical-align: middle;\n",
       "    }\n",
       "\n",
       "    .dataframe tbody tr th {\n",
       "        vertical-align: top;\n",
       "    }\n",
       "\n",
       "    .dataframe thead th {\n",
       "        text-align: right;\n",
       "    }\n",
       "</style>\n",
       "<table border=\"1\" class=\"dataframe\">\n",
       "  <thead>\n",
       "    <tr style=\"text-align: right;\">\n",
       "      <th></th>\n",
       "      <th>bp (Diastolic)</th>\n",
       "      <th>bp limit</th>\n",
       "      <th>rbc</th>\n",
       "      <th>pc</th>\n",
       "      <th>pcc</th>\n",
       "      <th>ba</th>\n",
       "      <th>htn</th>\n",
       "      <th>dm</th>\n",
       "      <th>cad</th>\n",
       "      <th>appet</th>\n",
       "      <th>pe</th>\n",
       "      <th>ane</th>\n",
       "      <th>affected</th>\n",
       "    </tr>\n",
       "  </thead>\n",
       "  <tbody>\n",
       "    <tr>\n",
       "      <th>count</th>\n",
       "      <td>200.000000</td>\n",
       "      <td>200.000000</td>\n",
       "      <td>200.000000</td>\n",
       "      <td>200.00000</td>\n",
       "      <td>200.000000</td>\n",
       "      <td>200.000000</td>\n",
       "      <td>200.000000</td>\n",
       "      <td>200.000000</td>\n",
       "      <td>200.000000</td>\n",
       "      <td>200.000000</td>\n",
       "      <td>200.000000</td>\n",
       "      <td>200.000000</td>\n",
       "      <td>200.000000</td>\n",
       "    </tr>\n",
       "    <tr>\n",
       "      <th>mean</th>\n",
       "      <td>0.540000</td>\n",
       "      <td>0.755000</td>\n",
       "      <td>0.125000</td>\n",
       "      <td>0.22500</td>\n",
       "      <td>0.135000</td>\n",
       "      <td>0.055000</td>\n",
       "      <td>0.390000</td>\n",
       "      <td>0.350000</td>\n",
       "      <td>0.110000</td>\n",
       "      <td>0.200000</td>\n",
       "      <td>0.175000</td>\n",
       "      <td>0.160000</td>\n",
       "      <td>0.640000</td>\n",
       "    </tr>\n",
       "    <tr>\n",
       "      <th>std</th>\n",
       "      <td>0.499648</td>\n",
       "      <td>0.805119</td>\n",
       "      <td>0.331549</td>\n",
       "      <td>0.41863</td>\n",
       "      <td>0.342581</td>\n",
       "      <td>0.228552</td>\n",
       "      <td>0.488974</td>\n",
       "      <td>0.478167</td>\n",
       "      <td>0.313675</td>\n",
       "      <td>0.401004</td>\n",
       "      <td>0.380921</td>\n",
       "      <td>0.367526</td>\n",
       "      <td>0.481205</td>\n",
       "    </tr>\n",
       "    <tr>\n",
       "      <th>min</th>\n",
       "      <td>0.000000</td>\n",
       "      <td>0.000000</td>\n",
       "      <td>0.000000</td>\n",
       "      <td>0.00000</td>\n",
       "      <td>0.000000</td>\n",
       "      <td>0.000000</td>\n",
       "      <td>0.000000</td>\n",
       "      <td>0.000000</td>\n",
       "      <td>0.000000</td>\n",
       "      <td>0.000000</td>\n",
       "      <td>0.000000</td>\n",
       "      <td>0.000000</td>\n",
       "      <td>0.000000</td>\n",
       "    </tr>\n",
       "    <tr>\n",
       "      <th>25%</th>\n",
       "      <td>0.000000</td>\n",
       "      <td>0.000000</td>\n",
       "      <td>0.000000</td>\n",
       "      <td>0.00000</td>\n",
       "      <td>0.000000</td>\n",
       "      <td>0.000000</td>\n",
       "      <td>0.000000</td>\n",
       "      <td>0.000000</td>\n",
       "      <td>0.000000</td>\n",
       "      <td>0.000000</td>\n",
       "      <td>0.000000</td>\n",
       "      <td>0.000000</td>\n",
       "      <td>0.000000</td>\n",
       "    </tr>\n",
       "    <tr>\n",
       "      <th>50%</th>\n",
       "      <td>1.000000</td>\n",
       "      <td>1.000000</td>\n",
       "      <td>0.000000</td>\n",
       "      <td>0.00000</td>\n",
       "      <td>0.000000</td>\n",
       "      <td>0.000000</td>\n",
       "      <td>0.000000</td>\n",
       "      <td>0.000000</td>\n",
       "      <td>0.000000</td>\n",
       "      <td>0.000000</td>\n",
       "      <td>0.000000</td>\n",
       "      <td>0.000000</td>\n",
       "      <td>1.000000</td>\n",
       "    </tr>\n",
       "    <tr>\n",
       "      <th>75%</th>\n",
       "      <td>1.000000</td>\n",
       "      <td>1.000000</td>\n",
       "      <td>0.000000</td>\n",
       "      <td>0.00000</td>\n",
       "      <td>0.000000</td>\n",
       "      <td>0.000000</td>\n",
       "      <td>1.000000</td>\n",
       "      <td>1.000000</td>\n",
       "      <td>0.000000</td>\n",
       "      <td>0.000000</td>\n",
       "      <td>0.000000</td>\n",
       "      <td>0.000000</td>\n",
       "      <td>1.000000</td>\n",
       "    </tr>\n",
       "    <tr>\n",
       "      <th>max</th>\n",
       "      <td>1.000000</td>\n",
       "      <td>2.000000</td>\n",
       "      <td>1.000000</td>\n",
       "      <td>1.00000</td>\n",
       "      <td>1.000000</td>\n",
       "      <td>1.000000</td>\n",
       "      <td>1.000000</td>\n",
       "      <td>1.000000</td>\n",
       "      <td>1.000000</td>\n",
       "      <td>1.000000</td>\n",
       "      <td>1.000000</td>\n",
       "      <td>1.000000</td>\n",
       "      <td>1.000000</td>\n",
       "    </tr>\n",
       "  </tbody>\n",
       "</table>\n",
       "</div>"
      ],
      "text/plain": [
       "       bp (Diastolic)    bp limit         rbc         pc         pcc  \\\n",
       "count      200.000000  200.000000  200.000000  200.00000  200.000000   \n",
       "mean         0.540000    0.755000    0.125000    0.22500    0.135000   \n",
       "std          0.499648    0.805119    0.331549    0.41863    0.342581   \n",
       "min          0.000000    0.000000    0.000000    0.00000    0.000000   \n",
       "25%          0.000000    0.000000    0.000000    0.00000    0.000000   \n",
       "50%          1.000000    1.000000    0.000000    0.00000    0.000000   \n",
       "75%          1.000000    1.000000    0.000000    0.00000    0.000000   \n",
       "max          1.000000    2.000000    1.000000    1.00000    1.000000   \n",
       "\n",
       "               ba         htn          dm         cad       appet          pe  \\\n",
       "count  200.000000  200.000000  200.000000  200.000000  200.000000  200.000000   \n",
       "mean     0.055000    0.390000    0.350000    0.110000    0.200000    0.175000   \n",
       "std      0.228552    0.488974    0.478167    0.313675    0.401004    0.380921   \n",
       "min      0.000000    0.000000    0.000000    0.000000    0.000000    0.000000   \n",
       "25%      0.000000    0.000000    0.000000    0.000000    0.000000    0.000000   \n",
       "50%      0.000000    0.000000    0.000000    0.000000    0.000000    0.000000   \n",
       "75%      0.000000    1.000000    1.000000    0.000000    0.000000    0.000000   \n",
       "max      1.000000    1.000000    1.000000    1.000000    1.000000    1.000000   \n",
       "\n",
       "              ane    affected  \n",
       "count  200.000000  200.000000  \n",
       "mean     0.160000    0.640000  \n",
       "std      0.367526    0.481205  \n",
       "min      0.000000    0.000000  \n",
       "25%      0.000000    0.000000  \n",
       "50%      0.000000    1.000000  \n",
       "75%      0.000000    1.000000  \n",
       "max      1.000000    1.000000  "
      ]
     },
     "execution_count": 72,
     "metadata": {},
     "output_type": "execute_result"
    }
   ],
   "source": [
    "ckd.describe()"
   ]
  },
  {
   "cell_type": "markdown",
   "id": "f7b66c99",
   "metadata": {},
   "source": [
    "Checking for Null Value columns"
   ]
  },
  {
   "cell_type": "code",
   "execution_count": 73,
   "id": "d0d9d8bc",
   "metadata": {},
   "outputs": [
    {
     "data": {
      "text/plain": [
       "bp (Diastolic)    0\n",
       "bp limit          0\n",
       "sg                0\n",
       "al                0\n",
       "class             0\n",
       "rbc               0\n",
       "su                0\n",
       "pc                0\n",
       "pcc               0\n",
       "ba                0\n",
       "bgr               0\n",
       "bu                0\n",
       "sod               0\n",
       "sc                0\n",
       "pot               0\n",
       "hemo              0\n",
       "pcv               0\n",
       "rbcc              0\n",
       "wbcc              0\n",
       "htn               0\n",
       "dm                0\n",
       "cad               0\n",
       "appet             0\n",
       "pe                0\n",
       "ane               0\n",
       "grf               0\n",
       "stage             0\n",
       "affected          0\n",
       "age               0\n",
       "dtype: int64"
      ]
     },
     "execution_count": 73,
     "metadata": {},
     "output_type": "execute_result"
    }
   ],
   "source": [
    "ckd.isna().sum()"
   ]
  },
  {
   "cell_type": "markdown",
   "id": "b32b7b5e",
   "metadata": {},
   "source": [
    "List of Categorical Variables"
   ]
  },
  {
   "cell_type": "code",
   "execution_count": 74,
   "id": "f9ebe3ca",
   "metadata": {},
   "outputs": [
    {
     "data": {
      "text/plain": [
       "['sg',\n",
       " 'al',\n",
       " 'class',\n",
       " 'su',\n",
       " 'bgr',\n",
       " 'bu',\n",
       " 'sod',\n",
       " 'sc',\n",
       " 'pot',\n",
       " 'hemo',\n",
       " 'pcv',\n",
       " 'rbcc',\n",
       " 'wbcc',\n",
       " 'grf',\n",
       " 'stage',\n",
       " 'age']"
      ]
     },
     "execution_count": 74,
     "metadata": {},
     "output_type": "execute_result"
    }
   ],
   "source": [
    "category_var_list = list(ckd.select_dtypes(include='object').columns)\n",
    "category_var_list"
   ]
  },
  {
   "cell_type": "code",
   "execution_count": 75,
   "id": "7658b1f6",
   "metadata": {},
   "outputs": [
    {
     "name": "stdout",
     "output_type": "stream",
     "text": [
      "Category: sg Values: ['1.019 - 1.021' '1.009 - 1.011' '1.015 - 1.017' '≥ 1.023' '< 1.007']\n",
      "Category: al Values: ['1-Jan' '< 0' '≥ 4' '3-Mar' '2-Feb']\n",
      "Category: class Values: ['ckd' 'notckd']\n",
      "Category: su Values: ['< 0' '4-Apr' '2-Feb' '4-Mar' '2-Jan' '≥ 4']\n",
      "Category: bgr Values: ['< 112' '112 - 154' '154 - 196' '406 - 448' '238 - 280' '196 - 238'\n",
      " '≥ 448' '280 - 322' '364 - 406' '322 - 364']\n",
      "Category: bu Values: ['< 48.1' '48.1 - 86.2' '200.5 - 238.6' '124.3 - 162.4' '86.2 - 124.3'\n",
      " '162.4 - 200.5' '≥ 352.9' '238.6 - 276.7']\n",
      "Category: sod Values: ['138 - 143' '133 - 138' '123 - 128' '143 - 148' '148 - 153' '< 118'\n",
      " '128 - 133' '118 - 123' '≥ 158']\n",
      "Category: sc Values: ['< 3.65' '3.65 - 6.8' '16.25 - 19.4' '6.8 - 9.95' '13.1 - 16.25'\n",
      " '9.95 - 13.1' '≥ 28.85']\n",
      "Category: pot Values: ['< 7.31' '≥ 42.59' '7.31 - 11.72' '38.18 - 42.59']\n",
      "Category: hemo Values: ['11.3 - 12.6' '8.7 - 10' '13.9 - 15.2' '≥ 16.5' '10 - 11.3' '7.4 - 8.7'\n",
      " '12.6 - 13.9' '15.2 - 16.5' '< 6.1' '6.1 - 7.4']\n",
      "Category: pcv Values: ['33.5 - 37.4' '29.6 - 33.5' '41.3 - 45.2' '37.4 - 41.3' '≥ 49.1'\n",
      " '21.8 - 25.7' '45.2 - 49.1' '< 17.9' '25.7 - 29.6' '17.9 - 21.8']\n",
      "Category: rbcc Values: ['4.46 - 5.05' '5.05 - 5.64' '3.28 - 3.87' '3.87 - 4.46' '6.23 - 6.82'\n",
      " '5.64 - 6.23' '2.69 - 3.28' '< 2.69' '≥ 7.41']\n",
      "Category: wbcc Values: ['7360 - 9740' '12120 - 14500' '14500 - 16880' '4980 - 7360' '< 4980'\n",
      " '9740 - 12120' '16880 - 19260' '≥ 24020' '19260 - 21640']\n",
      "Category: grf Values: ['≥ 227.944' '127.281 - 152.446' '102.115 - 127.281' '177.612 - 202.778'\n",
      " '26.6175 - 51.7832' '51.7832 - 76.949' '76.949 - 102.115'\n",
      " '152.446 - 177.612' '202.778 - 227.944' '< 26.6175' ' p ']\n",
      "Category: stage Values: ['s1' 's4' 's3' 's2' 's5']\n",
      "Category: age Values: ['< 12' '20-Dec' '20 - 27' '27 - 35' '35 - 43' '43 - 51' '51 - 59'\n",
      " '59 - 66' '66 - 74' '≥ 74']\n"
     ]
    }
   ],
   "source": [
    "#to get the unique values in each column\n",
    "for cat in category_var_list: \n",
    "    print(f\"Category: {cat} Values: {ckd[cat].unique()}\")"
   ]
  },
  {
   "cell_type": "markdown",
   "id": "5ef1adb8",
   "metadata": {},
   "source": [
    "It is observed that there are some irrelevant values in some columns, so it's better replace them with Nan and remove the class column since it's directly correlated to our target variable 'affected'."
   ]
  },
  {
   "cell_type": "code",
   "execution_count": 76,
   "id": "899bdef9",
   "metadata": {},
   "outputs": [],
   "source": [
    "ckd.drop(['class'], axis=1, inplace = True)"
   ]
  },
  {
   "cell_type": "code",
   "execution_count": 77,
   "id": "dc799794",
   "metadata": {},
   "outputs": [],
   "source": [
    "ckd['al']=ckd.al.replace(['1-Jan','3-Mar','2-Feb'],np.nan)"
   ]
  },
  {
   "cell_type": "code",
   "execution_count": 78,
   "id": "8d2ae88c",
   "metadata": {},
   "outputs": [],
   "source": [
    "ckd['su']=ckd.su.replace(['4-Apr','2-Feb','4-Mar','2-Jan'],np.nan)"
   ]
  },
  {
   "cell_type": "code",
   "execution_count": 79,
   "id": "62d198c7",
   "metadata": {},
   "outputs": [],
   "source": [
    "ckd['grf']=ckd.grf.replace([' p '],np.nan)"
   ]
  },
  {
   "cell_type": "code",
   "execution_count": 80,
   "id": "0d3cf343",
   "metadata": {},
   "outputs": [],
   "source": [
    "ckd['age']=ckd.age.replace(['20-Dec'],np.nan)"
   ]
  },
  {
   "cell_type": "code",
   "execution_count": 81,
   "id": "69063cbf",
   "metadata": {},
   "outputs": [
    {
     "data": {
      "text/plain": [
       "bp (Diastolic)     0\n",
       "bp limit           0\n",
       "sg                 0\n",
       "al                71\n",
       "rbc                0\n",
       "su                29\n",
       "pc                 0\n",
       "pcc                0\n",
       "ba                 0\n",
       "bgr                0\n",
       "bu                 0\n",
       "sod                0\n",
       "sc                 0\n",
       "pot                0\n",
       "hemo               0\n",
       "pcv                0\n",
       "rbcc               0\n",
       "wbcc               0\n",
       "htn                0\n",
       "dm                 0\n",
       "cad                0\n",
       "appet              0\n",
       "pe                 0\n",
       "ane                0\n",
       "grf                1\n",
       "stage              0\n",
       "affected           0\n",
       "age                4\n",
       "dtype: int64"
      ]
     },
     "execution_count": 81,
     "metadata": {},
     "output_type": "execute_result"
    }
   ],
   "source": [
    "#checking for nan values\n",
    "ckd.isna().sum()"
   ]
  },
  {
   "cell_type": "code",
   "execution_count": 82,
   "id": "976a16f1",
   "metadata": {},
   "outputs": [],
   "source": [
    "#replacing the Nan values with mode\n",
    "ckd['al']=ckd.al.fillna(ckd.al.mode())\n",
    "ckd['su']=ckd.su.fillna(ckd.su.mode())\n",
    "ckd['grf']=ckd.grf.fillna(ckd.grf.mode())\n",
    "ckd['age']=ckd.age.fillna(ckd.age.mode())"
   ]
  },
  {
   "cell_type": "code",
   "execution_count": 83,
   "id": "bebaa4d8",
   "metadata": {},
   "outputs": [],
   "source": [
    "#Label encoding the categorical columns since the models can only work with numerical values"
   ]
  },
  {
   "cell_type": "code",
   "execution_count": 84,
   "id": "e9740324",
   "metadata": {},
   "outputs": [],
   "source": [
    "labelencoder = LabelEncoder()\n",
    "ckd['sg'] = labelencoder.fit_transform(ckd['sg'])\n",
    "ckd['al'] = labelencoder.fit_transform(ckd['al'])\n",
    "ckd['su'] = labelencoder.fit_transform(ckd['su'])\n",
    "ckd['bgr'] = labelencoder.fit_transform(ckd['bgr'])\n",
    "ckd['bu'] = labelencoder.fit_transform(ckd['bu'])\n",
    "ckd['sod'] = labelencoder.fit_transform(ckd['sod'])\n",
    "ckd['sc'] = labelencoder.fit_transform(ckd['sc'])\n",
    "ckd['pot'] = labelencoder.fit_transform(ckd['pot'])\n",
    "ckd['hemo'] = labelencoder.fit_transform(ckd['hemo'])\n",
    "ckd['pcv'] = labelencoder.fit_transform(ckd['pcv'])\n",
    "ckd['rbcc'] = labelencoder.fit_transform(ckd['rbcc'])\n",
    "ckd['wbcc'] = labelencoder.fit_transform(ckd['wbcc'])\n",
    "ckd['grf'] = labelencoder.fit_transform(ckd['grf'])\n",
    "ckd['stage'] = labelencoder.fit_transform(ckd['stage'])\n",
    "ckd['age'] = labelencoder.fit_transform(ckd['age'])"
   ]
  },
  {
   "cell_type": "code",
   "execution_count": 85,
   "id": "00dfbb36",
   "metadata": {},
   "outputs": [
    {
     "name": "stdout",
     "output_type": "stream",
     "text": [
      "<class 'pandas.core.frame.DataFrame'>\n",
      "RangeIndex: 200 entries, 0 to 199\n",
      "Data columns (total 28 columns):\n",
      " #   Column          Non-Null Count  Dtype\n",
      "---  ------          --------------  -----\n",
      " 0   bp (Diastolic)  200 non-null    int64\n",
      " 1   bp limit        200 non-null    int64\n",
      " 2   sg              200 non-null    int32\n",
      " 3   al              200 non-null    int32\n",
      " 4   rbc             200 non-null    int64\n",
      " 5   su              200 non-null    int32\n",
      " 6   pc              200 non-null    int64\n",
      " 7   pcc             200 non-null    int64\n",
      " 8   ba              200 non-null    int64\n",
      " 9   bgr             200 non-null    int32\n",
      " 10  bu              200 non-null    int32\n",
      " 11  sod             200 non-null    int32\n",
      " 12  sc              200 non-null    int32\n",
      " 13  pot             200 non-null    int32\n",
      " 14  hemo            200 non-null    int32\n",
      " 15  pcv             200 non-null    int32\n",
      " 16  rbcc            200 non-null    int32\n",
      " 17  wbcc            200 non-null    int32\n",
      " 18  htn             200 non-null    int64\n",
      " 19  dm              200 non-null    int64\n",
      " 20  cad             200 non-null    int64\n",
      " 21  appet           200 non-null    int64\n",
      " 22  pe              200 non-null    int64\n",
      " 23  ane             200 non-null    int64\n",
      " 24  grf             200 non-null    int32\n",
      " 25  stage           200 non-null    int32\n",
      " 26  affected        200 non-null    int64\n",
      " 27  age             200 non-null    int32\n",
      "dtypes: int32(15), int64(13)\n",
      "memory usage: 32.2 KB\n"
     ]
    }
   ],
   "source": [
    "ckd.info()"
   ]
  },
  {
   "cell_type": "markdown",
   "id": "b1844e0b",
   "metadata": {},
   "source": [
    "**Split Data**"
   ]
  },
  {
   "cell_type": "code",
   "execution_count": 86,
   "id": "0fd56192",
   "metadata": {},
   "outputs": [],
   "source": [
    "# split the data into validation and training set\n",
    "train_df, test_df = train_test_split(ckd, test_size=0.3)"
   ]
  },
  {
   "cell_type": "code",
   "execution_count": 87,
   "id": "2932c19c",
   "metadata": {},
   "outputs": [
    {
     "data": {
      "text/plain": [
       "1    91\n",
       "0    49\n",
       "Name: affected, dtype: int64"
      ]
     },
     "execution_count": 87,
     "metadata": {},
     "output_type": "execute_result"
    }
   ],
   "source": [
    "train_df.affected.value_counts()"
   ]
  },
  {
   "attachments": {},
   "cell_type": "markdown",
   "id": "9166e44a",
   "metadata": {},
   "source": [
    "Addressing Data imbalance"
   ]
  },
  {
   "cell_type": "code",
   "execution_count": 88,
   "id": "5d84de69",
   "metadata": {},
   "outputs": [],
   "source": [
    "#there is more than 10% difference between the count of classes, so it is a better approach to resample the training data\n",
    "cls0 = train_df[train_df['affected']==0]\n",
    "cls1 = train_df[train_df['affected']==1]\n",
    "from sklearn.utils import resample\n",
    "train_df_minority_resampled = resample(cls0, \n",
    "                                 replace=True,     \n",
    "                                 n_samples=91,    \n",
    "                                 random_state=123)"
   ]
  },
  {
   "cell_type": "code",
   "execution_count": 89,
   "id": "02d6d8d9",
   "metadata": {},
   "outputs": [
    {
     "name": "stdout",
     "output_type": "stream",
     "text": [
      "(91, 28) (91, 28)\n"
     ]
    }
   ],
   "source": [
    "print(cls1.shape,train_df_minority_resampled.shape)"
   ]
  },
  {
   "cell_type": "code",
   "execution_count": 90,
   "id": "c0fe626e",
   "metadata": {},
   "outputs": [],
   "source": [
    "train_df=pd.concat([cls1,train_df_minority_resampled])"
   ]
  },
  {
   "cell_type": "code",
   "execution_count": 91,
   "id": "f965a6e8",
   "metadata": {},
   "outputs": [],
   "source": [
    "\n",
    "# to reduce repetition in later code, create variables to represent the columns\n",
    "# that are our predictors and target\n",
    "target = 'affected'\n",
    "predictors = list(ckd.columns)\n",
    "predictors.remove(target)"
   ]
  },
  {
   "cell_type": "code",
   "execution_count": 92,
   "id": "1015a44c",
   "metadata": {},
   "outputs": [],
   "source": [
    "train_X=train_df[predictors]\n",
    "train_y = train_df[target] \n",
    "test_X = test_df[predictors]\n",
    "test_y = test_df[target]"
   ]
  },
  {
   "cell_type": "code",
   "execution_count": 93,
   "id": "ca28eece",
   "metadata": {},
   "outputs": [],
   "source": [
    "performance = pd.DataFrame({\"model\": [], \"Accuracy\": [], \"Precision\": [], \"Recall\": [], \"F1\": []})"
   ]
  },
  {
   "cell_type": "markdown",
   "id": "80eb0b03",
   "metadata": {},
   "source": [
    "**Fitting Logistic Regression**"
   ]
  },
  {
   "cell_type": "code",
   "execution_count": 94,
   "id": "333e28cb",
   "metadata": {},
   "outputs": [],
   "source": [
    "log_reg_model = LogisticRegression(penalty='none', max_iter=900)\n",
    "_ = log_reg_model.fit(train_X, np.ravel(train_y))\n",
    "model_preds = log_reg_model.predict(test_X)\n",
    "c_matrix = confusion_matrix(test_y, model_preds)\n",
    "TP = c_matrix[1][1]\n",
    "TN = c_matrix[0][0]\n",
    "FP = c_matrix[0][1]\n",
    "FN = c_matrix[1][0]\n",
    "performance = pd.concat([performance, pd.DataFrame({'model':\"default logistic\", \n",
    "                                                    'Accuracy': [(TP+TN)/(TP+TN+FP+FN)], \n",
    "                                                    'Precision': [TP/(TP+FP)], \n",
    "                                                    'Recall': [TP/(TP+FN)], \n",
    "                                                    'F1': [2*TP/(2*TP+FP+FN)]\n",
    "                                                     }, index=[0])])"
   ]
  },
  {
   "cell_type": "code",
   "execution_count": 95,
   "id": "203b9147",
   "metadata": {},
   "outputs": [],
   "source": [
    "#Liblinear Solver\n",
    "log_reg_liblin_model = LogisticRegression(solver='liblinear').fit(train_X, np.ravel(train_y))\n",
    "model_preds = log_reg_liblin_model.predict(test_X)\n",
    "c_matrix = confusion_matrix(test_y, model_preds)\n",
    "TP = c_matrix[1][1]\n",
    "TN = c_matrix[0][0]\n",
    "FP = c_matrix[0][1]\n",
    "FN = c_matrix[1][0]\n",
    "performance = pd.concat([performance, pd.DataFrame({'model':\"liblinear logistic\", \n",
    "                                                    'Accuracy': [(TP+TN)/(TP+TN+FP+FN)], \n",
    "                                                    'Precision': [TP/(TP+FP)], \n",
    "                                                    'Recall': [TP/(TP+FN)], \n",
    "                                                    'F1': [2*TP/(2*TP+FP+FN)]\n",
    "                                                     }, index=[0])])"
   ]
  },
  {
   "cell_type": "code",
   "execution_count": 96,
   "id": "74246c68",
   "metadata": {},
   "outputs": [],
   "source": [
    "#L2 Regularization\n",
    "log_reg_L2_model = LogisticRegression(penalty='l2', max_iter=1000)\n",
    "_ = log_reg_L2_model.fit(train_X, np.ravel(train_y))\n",
    "model_preds = log_reg_L2_model.predict(test_X)\n",
    "c_matrix = confusion_matrix(test_y, model_preds)\n",
    "TP = c_matrix[1][1]\n",
    "TN = c_matrix[0][0]\n",
    "FP = c_matrix[0][1]\n",
    "FN = c_matrix[1][0]\n",
    "performance = pd.concat([performance, pd.DataFrame({'model':\"L2 logistic\", \n",
    "                                                    'Accuracy': [(TP+TN)/(TP+TN+FP+FN)], \n",
    "                                                    'Precision': [TP/(TP+FP)], \n",
    "                                                    'Recall': [TP/(TP+FN)], \n",
    "                                                    'F1': [2*TP/(2*TP+FP+FN)]\n",
    "                                                     }, index=[0])])"
   ]
  },
  {
   "cell_type": "code",
   "execution_count": 97,
   "id": "01cee648",
   "metadata": {},
   "outputs": [],
   "source": [
    "#L1 Regularization\n",
    "log_reg_L1_model = LogisticRegression(solver='liblinear', penalty='l1')\n",
    "_ = log_reg_L1_model.fit(train_X, np.ravel(train_y))\n",
    "model_preds = log_reg_L1_model.predict(test_X)\n",
    "c_matrix = confusion_matrix(test_y, model_preds)\n",
    "TP = c_matrix[1][1]\n",
    "TN = c_matrix[0][0]\n",
    "FP = c_matrix[0][1]\n",
    "FN = c_matrix[1][0]\n",
    "performance = pd.concat([performance, pd.DataFrame({'model':\"L1 logistic\", \n",
    "                                                    'Accuracy': [(TP+TN)/(TP+TN+FP+FN)], \n",
    "                                                    'Precision': [TP/(TP+FP)], \n",
    "                                                    'Recall': [TP/(TP+FN)], \n",
    "                                                    'F1': [2*TP/(2*TP+FP+FN)]\n",
    "                                                     }, index=[0])])"
   ]
  },
  {
   "cell_type": "code",
   "execution_count": 98,
   "id": "26b8140e",
   "metadata": {},
   "outputs": [],
   "source": [
    "#ElasticNet Regularization\n",
    "log_reg_elastic_model = LogisticRegression(solver='saga', penalty='elasticnet', l1_ratio=0.5, max_iter=1500)\n",
    "_ = log_reg_elastic_model.fit(train_X, np.ravel(train_y))\n",
    "model_preds = log_reg_elastic_model.predict(test_X)\n",
    "c_matrix = confusion_matrix(test_y, model_preds)\n",
    "TP = c_matrix[1][1]\n",
    "TN = c_matrix[0][0]\n",
    "FP = c_matrix[0][1]\n",
    "FN = c_matrix[1][0]\n",
    "performance = pd.concat([performance, pd.DataFrame({'model':\"Elastic logistic\", \n",
    "                                                    'Accuracy': [(TP+TN)/(TP+TN+FP+FN)], \n",
    "                                                    'Precision': [TP/(TP+FP)], \n",
    "                                                    'Recall': [TP/(TP+FN)], \n",
    "                                                    'F1': [2*TP/(2*TP+FP+FN)]\n",
    "                                                     }, index=[0])])\n",
    "import warnings\n",
    "warnings.filterwarnings(\"ignore\")"
   ]
  },
  {
   "cell_type": "markdown",
   "id": "eb7833cc",
   "metadata": {},
   "source": [
    "**Fitting Decision Tree Classifier**"
   ]
  },
  {
   "cell_type": "code",
   "execution_count": 99,
   "id": "4ed60f82",
   "metadata": {},
   "outputs": [],
   "source": [
    "Dt=DecisionTreeClassifier(max_depth=10)\n",
    "Dt=Dt.fit(train_X,np.ravel(train_y))\n",
    "model_preds=Dt.predict(test_X)\n",
    "c_matrix = confusion_matrix(test_y, model_preds)\n",
    "TP = c_matrix[1][1]\n",
    "TN = c_matrix[0][0]\n",
    "FP = c_matrix[0][1]\n",
    "FN = c_matrix[1][0]\n",
    "performance = pd.concat([performance, pd.DataFrame({'model':\"Decision Tree Classifier\", \n",
    "                                                    'Accuracy': [(TP+TN)/(TP+TN+FP+FN)], \n",
    "                                                    'Precision': [TP/(TP+FP)], \n",
    "                                                    'Recall': [TP/(TP+FN)], \n",
    "                                                    'F1': [2*TP/(2*TP+FP+FN)]\n",
    "                                                     }, index=[0])])"
   ]
  },
  {
   "cell_type": "markdown",
   "id": "572ab3fc",
   "metadata": {},
   "source": [
    "**Fitting Random Forest Classifier**"
   ]
  },
  {
   "cell_type": "code",
   "execution_count": 100,
   "id": "ed1567c8",
   "metadata": {},
   "outputs": [],
   "source": [
    "rforest = RandomForestClassifier()\n",
    "_ = rforest.fit(train_X, train_y)\n",
    "y_pred = rforest.predict(test_X)\n",
    "TP = c_matrix[1][1]\n",
    "TN = c_matrix[0][0]\n",
    "FP = c_matrix[0][1]\n",
    "FN = c_matrix[1][0]\n",
    "performance = pd.concat([performance, pd.DataFrame({'model':\"Random Forest\", \n",
    "                                                    'Accuracy': [(TP+TN)/(TP+TN+FP+FN)], \n",
    "                                                    'Precision': [TP/(TP+FP)], \n",
    "                                                    'Recall': [TP/(TP+FN)], \n",
    "                                                    'F1': [2*TP/(2*TP+FP+FN)]\n",
    "                                                     }, index=[0])])"
   ]
  },
  {
   "cell_type": "markdown",
   "id": "0b2276ff",
   "metadata": {},
   "source": [
    "**Fitting Ada Boost Classifier**"
   ]
  },
  {
   "cell_type": "code",
   "execution_count": 101,
   "id": "4c94e6a4",
   "metadata": {},
   "outputs": [],
   "source": [
    "aboost = AdaBoostClassifier()\n",
    "_ = aboost.fit(train_X, train_y)\n",
    "y_pred = aboost.predict(test_X)\n",
    "TP = c_matrix[1][1]\n",
    "TN = c_matrix[0][0]\n",
    "FP = c_matrix[0][1]\n",
    "FN = c_matrix[1][0]\n",
    "performance = pd.concat([performance, pd.DataFrame({'model':\"AdaBoost Classifier\", \n",
    "                                                    'Accuracy': [(TP+TN)/(TP+TN+FP+FN)], \n",
    "                                                    'Precision': [TP/(TP+FP)], \n",
    "                                                    'Recall': [TP/(TP+FN)], \n",
    "                                                    'F1': [2*TP/(2*TP+FP+FN)]\n",
    "                                                     }, index=[0])])"
   ]
  },
  {
   "cell_type": "markdown",
   "id": "d1b097da",
   "metadata": {},
   "source": [
    "**Fitting Gradient Boost Classifier**"
   ]
  },
  {
   "cell_type": "code",
   "execution_count": 102,
   "id": "f71b8a8d",
   "metadata": {},
   "outputs": [],
   "source": [
    "gboost = GradientBoostingClassifier()\n",
    "_ = gboost.fit(train_X, train_y)\n",
    "y_pred = gboost.predict(test_X)\n",
    "TP = c_matrix[1][1]\n",
    "TN = c_matrix[0][0]\n",
    "FP = c_matrix[0][1]\n",
    "FN = c_matrix[1][0]\n",
    "performance = pd.concat([performance, pd.DataFrame({'model':\"Gradient Boost Classifier\", \n",
    "                                                    'Accuracy': [(TP+TN)/(TP+TN+FP+FN)], \n",
    "                                                    'Precision': [TP/(TP+FP)], \n",
    "                                                    'Recall': [TP/(TP+FN)], \n",
    "                                                    'F1': [2*TP/(2*TP+FP+FN)]\n",
    "                                                     }, index=[0])])"
   ]
  },
  {
   "cell_type": "code",
   "execution_count": 103,
   "id": "38e8366b",
   "metadata": {},
   "outputs": [
    {
     "data": {
      "text/html": [
       "<div>\n",
       "<style scoped>\n",
       "    .dataframe tbody tr th:only-of-type {\n",
       "        vertical-align: middle;\n",
       "    }\n",
       "\n",
       "    .dataframe tbody tr th {\n",
       "        vertical-align: top;\n",
       "    }\n",
       "\n",
       "    .dataframe thead th {\n",
       "        text-align: right;\n",
       "    }\n",
       "</style>\n",
       "<table border=\"1\" class=\"dataframe\">\n",
       "  <thead>\n",
       "    <tr style=\"text-align: right;\">\n",
       "      <th></th>\n",
       "      <th>model</th>\n",
       "      <th>Accuracy</th>\n",
       "      <th>Precision</th>\n",
       "      <th>Recall</th>\n",
       "      <th>F1</th>\n",
       "    </tr>\n",
       "  </thead>\n",
       "  <tbody>\n",
       "    <tr>\n",
       "      <th>0</th>\n",
       "      <td>L1 logistic</td>\n",
       "      <td>1.000000</td>\n",
       "      <td>1.000000</td>\n",
       "      <td>1.000000</td>\n",
       "      <td>1.000000</td>\n",
       "    </tr>\n",
       "    <tr>\n",
       "      <th>0</th>\n",
       "      <td>default logistic</td>\n",
       "      <td>0.983333</td>\n",
       "      <td>1.000000</td>\n",
       "      <td>0.972973</td>\n",
       "      <td>0.986301</td>\n",
       "    </tr>\n",
       "    <tr>\n",
       "      <th>0</th>\n",
       "      <td>liblinear logistic</td>\n",
       "      <td>0.983333</td>\n",
       "      <td>1.000000</td>\n",
       "      <td>0.972973</td>\n",
       "      <td>0.986301</td>\n",
       "    </tr>\n",
       "    <tr>\n",
       "      <th>0</th>\n",
       "      <td>Elastic logistic</td>\n",
       "      <td>0.983333</td>\n",
       "      <td>1.000000</td>\n",
       "      <td>0.972973</td>\n",
       "      <td>0.986301</td>\n",
       "    </tr>\n",
       "    <tr>\n",
       "      <th>0</th>\n",
       "      <td>L2 logistic</td>\n",
       "      <td>0.966667</td>\n",
       "      <td>1.000000</td>\n",
       "      <td>0.945946</td>\n",
       "      <td>0.972222</td>\n",
       "    </tr>\n",
       "    <tr>\n",
       "      <th>0</th>\n",
       "      <td>Decision Tree Classifier</td>\n",
       "      <td>0.933333</td>\n",
       "      <td>0.971429</td>\n",
       "      <td>0.918919</td>\n",
       "      <td>0.944444</td>\n",
       "    </tr>\n",
       "    <tr>\n",
       "      <th>0</th>\n",
       "      <td>Random Forest</td>\n",
       "      <td>0.933333</td>\n",
       "      <td>0.971429</td>\n",
       "      <td>0.918919</td>\n",
       "      <td>0.944444</td>\n",
       "    </tr>\n",
       "    <tr>\n",
       "      <th>0</th>\n",
       "      <td>AdaBoost Classifier</td>\n",
       "      <td>0.933333</td>\n",
       "      <td>0.971429</td>\n",
       "      <td>0.918919</td>\n",
       "      <td>0.944444</td>\n",
       "    </tr>\n",
       "    <tr>\n",
       "      <th>0</th>\n",
       "      <td>Gradient Boost Classifier</td>\n",
       "      <td>0.933333</td>\n",
       "      <td>0.971429</td>\n",
       "      <td>0.918919</td>\n",
       "      <td>0.944444</td>\n",
       "    </tr>\n",
       "  </tbody>\n",
       "</table>\n",
       "</div>"
      ],
      "text/plain": [
       "                       model  Accuracy  Precision    Recall        F1\n",
       "0                L1 logistic  1.000000   1.000000  1.000000  1.000000\n",
       "0           default logistic  0.983333   1.000000  0.972973  0.986301\n",
       "0         liblinear logistic  0.983333   1.000000  0.972973  0.986301\n",
       "0           Elastic logistic  0.983333   1.000000  0.972973  0.986301\n",
       "0                L2 logistic  0.966667   1.000000  0.945946  0.972222\n",
       "0   Decision Tree Classifier  0.933333   0.971429  0.918919  0.944444\n",
       "0              Random Forest  0.933333   0.971429  0.918919  0.944444\n",
       "0        AdaBoost Classifier  0.933333   0.971429  0.918919  0.944444\n",
       "0  Gradient Boost Classifier  0.933333   0.971429  0.918919  0.944444"
      ]
     },
     "execution_count": 103,
     "metadata": {},
     "output_type": "execute_result"
    }
   ],
   "source": [
    "performance.sort_values(by='Recall',ascending=False)"
   ]
  },
  {
   "attachments": {},
   "cell_type": "markdown",
   "id": "09ca7695",
   "metadata": {},
   "source": [
    "To identify which model is better for this dataset, Recall should be considered as the measure. The reason being it is a health related dataset and it's risky to have False Negatives i.e., predicting affected as 0 when it's 1 as it will result in death of patients if not treated.\n",
    "\n",
    "Above are the results of models fit on the dataset sorted by Recall, L1 logistic has fit the data better than other models.Followed by default logistic,liblinear logistic, Elastic logistic having the same Recall value.\n"
   ]
  }
 ],
 "metadata": {
  "kernelspec": {
   "display_name": "Python 3 (ipykernel)",
   "language": "python",
   "name": "python3"
  },
  "language_info": {
   "codemirror_mode": {
    "name": "ipython",
    "version": 3
   },
   "file_extension": ".py",
   "mimetype": "text/x-python",
   "name": "python",
   "nbconvert_exporter": "python",
   "pygments_lexer": "ipython3",
   "version": "3.9.12"
  }
 },
 "nbformat": 4,
 "nbformat_minor": 5
}
